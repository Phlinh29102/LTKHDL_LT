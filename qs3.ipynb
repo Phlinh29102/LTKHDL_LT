{
 "cells": [
  {
   "cell_type": "markdown",
   "metadata": {},
   "source": [
    "# Đồ án Thực Hành Lập Trình Khoa Học Dữ Liệu"
   ]
  },
  {
   "cell_type": "markdown",
   "metadata": {},
   "source": [
    "### Bảng thành viên nhóm 9\n",
    "|<center><div style=\"width:150px\">MSSV</div><center>|<div style=\"width:290px\">Họ và tên</div>|\n",
    "|---------- |:-------------:|\n",
    "| <center>20120041<center>  |  Trần Kim Bảo |\n",
    "| <center>20120071<center>  | Nguyễn Thị Bích Hà |\n",
    "| <center>20120369<center>  |    Nguyễn Thanh Tân  | \n",
    "| <center>20120521<center>  | Trần Thị Phương Linh |"
   ]
  },
  {
   "cell_type": "markdown",
   "metadata": {},
   "source": [
    "## Import thư viện"
   ]
  },
  {
   "cell_type": "code",
   "execution_count": 2,
   "metadata": {},
   "outputs": [],
   "source": [
    "import pandas as pd\n",
    "import matplotlib.pyplot as plt\n",
    "import numpy as np\n",
    "import seaborn as sns"
   ]
  },
  {
   "cell_type": "markdown",
   "metadata": {},
   "source": [
    "## Thu thập dữ liệu"
   ]
  },
  {
   "cell_type": "markdown",
   "metadata": {},
   "source": [
    "- Nhóm sử dụng dữ liệu \"population_en_v2.csv\" tại https://data.opendevelopmentcambodia.net/en/dataset/vietnam-population-status-2011-2016.\n",
    "- Tập dữ liệu mô tả tình trạng dân số của các tỉnh Việt Nam từ năm 2011 đến năm 2020.\n",
    "- LICENSE của dữ liệu là [CC BY-SA 4.0](https://creativecommons.org/licenses/by-sa/4.0/), người dùng được phép sử dụng với mục đích phi thương mại và phải credit cho chủ sở hữu.\n",
    "- Người ta thu thập dữ liệu tại website [Tổng cục Thống kê](https://www.gso.gov.vn/)."
   ]
  },
  {
   "cell_type": "markdown",
   "metadata": {},
   "source": [
    "## Khám phá dữ liệu"
   ]
  },
  {
   "cell_type": "markdown",
   "metadata": {},
   "source": [
    "### Đọc dữ liệu vào Dataframe `population_df`"
   ]
  },
  {
   "cell_type": "code",
   "execution_count": 3,
   "metadata": {},
   "outputs": [
    {
     "data": {
      "text/html": [
       "<div>\n",
       "<style scoped>\n",
       "    .dataframe tbody tr th:only-of-type {\n",
       "        vertical-align: middle;\n",
       "    }\n",
       "\n",
       "    .dataframe tbody tr th {\n",
       "        vertical-align: top;\n",
       "    }\n",
       "\n",
       "    .dataframe thead th {\n",
       "        text-align: right;\n",
       "    }\n",
       "</style>\n",
       "<table border=\"1\" class=\"dataframe\">\n",
       "  <thead>\n",
       "    <tr style=\"text-align: right;\">\n",
       "      <th></th>\n",
       "      <th>Provinces/city</th>\n",
       "      <th>Population density</th>\n",
       "      <th>Average population</th>\n",
       "      <th>Sex ratio</th>\n",
       "      <th>Population grow ratio</th>\n",
       "      <th>15+ labor</th>\n",
       "      <th>Region</th>\n",
       "      <th>Year</th>\n",
       "    </tr>\n",
       "  </thead>\n",
       "  <tbody>\n",
       "    <tr>\n",
       "      <th>0</th>\n",
       "      <td>Ha Noi</td>\n",
       "      <td>2031.1</td>\n",
       "      <td>6761.3</td>\n",
       "      <td>97.8</td>\n",
       "      <td>1.93</td>\n",
       "      <td>3572.9</td>\n",
       "      <td>Hong river Delta</td>\n",
       "      <td>2011</td>\n",
       "    </tr>\n",
       "    <tr>\n",
       "      <th>1</th>\n",
       "      <td>Vinh Phuc</td>\n",
       "      <td>818.0</td>\n",
       "      <td>1011.4</td>\n",
       "      <td>97.6</td>\n",
       "      <td>0.38</td>\n",
       "      <td>608.3</td>\n",
       "      <td>Hong river Delta</td>\n",
       "      <td>2011</td>\n",
       "    </tr>\n",
       "    <tr>\n",
       "      <th>2</th>\n",
       "      <td>Bac Ninh</td>\n",
       "      <td>1292.6</td>\n",
       "      <td>1063.4</td>\n",
       "      <td>96.7</td>\n",
       "      <td>1.84</td>\n",
       "      <td>593.5</td>\n",
       "      <td>Hong river Delta</td>\n",
       "      <td>2011</td>\n",
       "    </tr>\n",
       "    <tr>\n",
       "      <th>3</th>\n",
       "      <td>Quang Ninh</td>\n",
       "      <td>191.4</td>\n",
       "      <td>1168.0</td>\n",
       "      <td>105.4</td>\n",
       "      <td>0.93</td>\n",
       "      <td>675.0</td>\n",
       "      <td>Hong river Delta</td>\n",
       "      <td>2011</td>\n",
       "    </tr>\n",
       "    <tr>\n",
       "      <th>4</th>\n",
       "      <td>Hai Duong</td>\n",
       "      <td>1044.6</td>\n",
       "      <td>1729.8</td>\n",
       "      <td>96.1</td>\n",
       "      <td>0.78</td>\n",
       "      <td>1071.0</td>\n",
       "      <td>Hong river Delta</td>\n",
       "      <td>2011</td>\n",
       "    </tr>\n",
       "  </tbody>\n",
       "</table>\n",
       "</div>"
      ],
      "text/plain": [
       "  Provinces/city  Population density  Average population  Sex ratio  \\\n",
       "0         Ha Noi              2031.1              6761.3       97.8   \n",
       "1      Vinh Phuc               818.0              1011.4       97.6   \n",
       "2       Bac Ninh              1292.6              1063.4       96.7   \n",
       "3     Quang Ninh               191.4              1168.0      105.4   \n",
       "4      Hai Duong              1044.6              1729.8       96.1   \n",
       "\n",
       "   Population grow ratio  15+ labor            Region  Year  \n",
       "0                   1.93     3572.9  Hong river Delta  2011  \n",
       "1                   0.38      608.3  Hong river Delta  2011  \n",
       "2                   1.84      593.5  Hong river Delta  2011  \n",
       "3                   0.93      675.0  Hong river Delta  2011  \n",
       "4                   0.78     1071.0  Hong river Delta  2011  "
      ]
     },
     "execution_count": 3,
     "metadata": {},
     "output_type": "execute_result"
    }
   ],
   "source": [
    "population_df = pd.read_csv('population_en_v2.csv')\n",
    "population_df.head()"
   ]
  },
  {
   "cell_type": "code",
   "execution_count": 4,
   "metadata": {},
   "outputs": [
    {
     "name": "stdout",
     "output_type": "stream",
     "text": [
      "<class 'pandas.core.frame.DataFrame'>\n",
      "RangeIndex: 630 entries, 0 to 629\n",
      "Data columns (total 8 columns):\n",
      " #   Column                 Non-Null Count  Dtype  \n",
      "---  ------                 --------------  -----  \n",
      " 0   Provinces/city         630 non-null    object \n",
      " 1   Population density     630 non-null    float64\n",
      " 2   Average population     630 non-null    float64\n",
      " 3   Sex ratio              630 non-null    float64\n",
      " 4   Population grow ratio  630 non-null    float64\n",
      " 5   15+ labor              630 non-null    float64\n",
      " 6   Region                 630 non-null    object \n",
      " 7   Year                   630 non-null    int64  \n",
      "dtypes: float64(5), int64(1), object(2)\n",
      "memory usage: 39.5+ KB\n"
     ]
    }
   ],
   "source": [
    "population_df.info()"
   ]
  },
  {
   "cell_type": "markdown",
   "metadata": {},
   "source": [
    "### Dữ liệu gồm có bao nhiêu dòng và bao nhiêu cột?"
   ]
  },
  {
   "cell_type": "markdown",
   "metadata": {},
   "source": [
    "Tính số dòng và số cột rồi lưu vào 2 biến `num_rows` và `num_cols`."
   ]
  },
  {
   "cell_type": "code",
   "execution_count": 5,
   "metadata": {},
   "outputs": [
    {
     "data": {
      "text/plain": [
       "(630, 8)"
      ]
     },
     "execution_count": 5,
     "metadata": {},
     "output_type": "execute_result"
    }
   ],
   "source": [
    "num_rows, num_cols = population_df.shape\n",
    "num_rows, num_cols"
   ]
  },
  {
   "cell_type": "markdown",
   "metadata": {},
   "source": [
    "### Mỗi dòng có ý nghĩa gì? Có vấn đề các dòng có ý nghĩa khác nhau không?"
   ]
  },
  {
   "cell_type": "markdown",
   "metadata": {},
   "source": [
    "Mỗi dòng chứa thông tin dân số của các tỉnh Việt Nam qua các năm từ 2011 đến 2020, không có vấn đề các dòng có ý nghĩa khác nhau."
   ]
  },
  {
   "cell_type": "markdown",
   "metadata": {},
   "source": [
    "### Tiến hành kiểm tra các dòng có bị lặp không?"
   ]
  },
  {
   "cell_type": "markdown",
   "metadata": {},
   "source": [
    "Kiểm tra bằng cách lưu kết quả vào biến `have_duplicated_rows`. Biến có giá trị `True` nếu dữ liệu các dòng bị lặp và `False` nếu ngược lại."
   ]
  },
  {
   "cell_type": "code",
   "execution_count": 6,
   "metadata": {},
   "outputs": [
    {
     "data": {
      "text/plain": [
       "False"
      ]
     },
     "execution_count": 6,
     "metadata": {},
     "output_type": "execute_result"
    }
   ],
   "source": [
    "duplicated_list = population_df.duplicated()\n",
    "if True in duplicated_list.values:\n",
    "    have_duplicated_rows = True\n",
    "else:\n",
    "    have_duplicated_rows = False\n",
    "have_duplicated_rows"
   ]
  },
  {
   "cell_type": "markdown",
   "metadata": {},
   "source": [
    "Ta có thể thấy không có dòng nào bị lặp cả."
   ]
  },
  {
   "cell_type": "markdown",
   "metadata": {},
   "source": [
    "### Mỗi cột có ý nghĩa gì?"
   ]
  },
  {
   "cell_type": "markdown",
   "metadata": {},
   "source": [
    "Mô tả các cột có trong file \"population_en_v2.csv\""
   ]
  },
  {
   "attachments": {},
   "cell_type": "markdown",
   "metadata": {},
   "source": [
    "|STT|Tên cột dữ liệu | <center>Mô tả<center> | Đơn vị |\n",
    "|--|:------:| ---| --- |\n",
    "|1|Provinces/city|<center>Tên tỉnh thành<center>|\n",
    "|2|Population density| <center>Mật độ dân số<center>|\n",
    "|3|Average population|<center>Dân số trung bình<center>|\n",
    "|4|Sex ratio|<center>Tỷ lệ giới tính<center>|  | \n",
    "|5|Population grow ratio|<center>Tỷ lệ gia tăng dân số<center>|  \n",
    "|6|15+ labor|<center>Lực lượng lao động từ 15 tuổi trở lên<center>|  |\n",
    "|7|Region|<center>Vùng<center>| |\n",
    "|8|Year|<center>Năm<center>|  |\n"
   ]
  },
  {
   "cell_type": "markdown",
   "metadata": {},
   "source": [
    "### Mỗi cột hiện đang có kiểu dữ liệu gì? Có cột nào có kiểu dữ liệu chưa phù hợp để có thể xử lý tiếp không?"
   ]
  },
  {
   "cell_type": "markdown",
   "metadata": {},
   "source": [
    "Ta tiến hành lấy `dtype` của mỗi cột trong `population_df` và lưu kết quả vào series `col_dtypes`."
   ]
  },
  {
   "cell_type": "code",
   "execution_count": 7,
   "metadata": {},
   "outputs": [],
   "source": [
    "#YOUR CODE HERE"
   ]
  },
  {
   "cell_type": "markdown",
   "metadata": {},
   "source": [
    "YOUR TEXT HERE"
   ]
  },
  {
   "cell_type": "code",
   "execution_count": 8,
   "metadata": {},
   "outputs": [],
   "source": [
    "#YOUR CODE HERE"
   ]
  },
  {
   "cell_type": "markdown",
   "metadata": {},
   "source": [
    "### Với mỗi cột, các giá trị được phân bố như thế nào?"
   ]
  },
  {
   "cell_type": "markdown",
   "metadata": {},
   "source": [
    "### Với mỗi cột có kiểu dữ liệu dạng số (numerical), các giá trị được phân bố như thế nào?\n",
    "\n",
    "Ở dữ liệu này, hiện có 6 cột thuộc nhóm numeric: `Population density`, `Average population`, `Sex ratio`, `Population grow ratio`, `15+ labor`, `Year`. "
   ]
  },
  {
   "cell_type": "code",
   "execution_count": 9,
   "metadata": {},
   "outputs": [
    {
     "data": {
      "text/html": [
       "<div>\n",
       "<style scoped>\n",
       "    .dataframe tbody tr th:only-of-type {\n",
       "        vertical-align: middle;\n",
       "    }\n",
       "\n",
       "    .dataframe tbody tr th {\n",
       "        vertical-align: top;\n",
       "    }\n",
       "\n",
       "    .dataframe thead th {\n",
       "        text-align: right;\n",
       "    }\n",
       "</style>\n",
       "<table border=\"1\" class=\"dataframe\">\n",
       "  <thead>\n",
       "    <tr style=\"text-align: right;\">\n",
       "      <th></th>\n",
       "      <th>Population density</th>\n",
       "      <th>Average population</th>\n",
       "      <th>Sex ratio</th>\n",
       "      <th>Population grow ratio</th>\n",
       "      <th>15+ labor</th>\n",
       "      <th>Year</th>\n",
       "    </tr>\n",
       "  </thead>\n",
       "  <tbody>\n",
       "    <tr>\n",
       "      <th>0</th>\n",
       "      <td>2031.1</td>\n",
       "      <td>6761.3</td>\n",
       "      <td>97.80</td>\n",
       "      <td>1.93</td>\n",
       "      <td>3572.90</td>\n",
       "      <td>2011</td>\n",
       "    </tr>\n",
       "    <tr>\n",
       "      <th>1</th>\n",
       "      <td>818.0</td>\n",
       "      <td>1011.4</td>\n",
       "      <td>97.60</td>\n",
       "      <td>0.38</td>\n",
       "      <td>608.30</td>\n",
       "      <td>2011</td>\n",
       "    </tr>\n",
       "    <tr>\n",
       "      <th>2</th>\n",
       "      <td>1292.6</td>\n",
       "      <td>1063.4</td>\n",
       "      <td>96.70</td>\n",
       "      <td>1.84</td>\n",
       "      <td>593.50</td>\n",
       "      <td>2011</td>\n",
       "    </tr>\n",
       "    <tr>\n",
       "      <th>3</th>\n",
       "      <td>191.4</td>\n",
       "      <td>1168.0</td>\n",
       "      <td>105.40</td>\n",
       "      <td>0.93</td>\n",
       "      <td>675.00</td>\n",
       "      <td>2011</td>\n",
       "    </tr>\n",
       "    <tr>\n",
       "      <th>4</th>\n",
       "      <td>1044.6</td>\n",
       "      <td>1729.8</td>\n",
       "      <td>96.10</td>\n",
       "      <td>0.78</td>\n",
       "      <td>1071.00</td>\n",
       "      <td>2011</td>\n",
       "    </tr>\n",
       "    <tr>\n",
       "      <th>...</th>\n",
       "      <td>...</td>\n",
       "      <td>...</td>\n",
       "      <td>...</td>\n",
       "      <td>...</td>\n",
       "      <td>...</td>\n",
       "      <td>...</td>\n",
       "    </tr>\n",
       "    <tr>\n",
       "      <th>625</th>\n",
       "      <td>862.0</td>\n",
       "      <td>1240.7</td>\n",
       "      <td>98.65</td>\n",
       "      <td>0.39</td>\n",
       "      <td>716.78</td>\n",
       "      <td>2020</td>\n",
       "    </tr>\n",
       "    <tr>\n",
       "      <th>626</th>\n",
       "      <td>450.0</td>\n",
       "      <td>729.8</td>\n",
       "      <td>101.38</td>\n",
       "      <td>-0.33</td>\n",
       "      <td>402.33</td>\n",
       "      <td>2020</td>\n",
       "    </tr>\n",
       "    <tr>\n",
       "      <th>627</th>\n",
       "      <td>361.0</td>\n",
       "      <td>1195.7</td>\n",
       "      <td>99.34</td>\n",
       "      <td>-0.32</td>\n",
       "      <td>641.91</td>\n",
       "      <td>2020</td>\n",
       "    </tr>\n",
       "    <tr>\n",
       "      <th>628</th>\n",
       "      <td>342.0</td>\n",
       "      <td>913.5</td>\n",
       "      <td>100.15</td>\n",
       "      <td>0.58</td>\n",
       "      <td>507.76</td>\n",
       "      <td>2020</td>\n",
       "    </tr>\n",
       "    <tr>\n",
       "      <th>629</th>\n",
       "      <td>229.0</td>\n",
       "      <td>1193.9</td>\n",
       "      <td>102.64</td>\n",
       "      <td>-0.03</td>\n",
       "      <td>669.77</td>\n",
       "      <td>2020</td>\n",
       "    </tr>\n",
       "  </tbody>\n",
       "</table>\n",
       "<p>630 rows × 6 columns</p>\n",
       "</div>"
      ],
      "text/plain": [
       "     Population density  Average population  Sex ratio  Population grow ratio  \\\n",
       "0                2031.1              6761.3      97.80                   1.93   \n",
       "1                 818.0              1011.4      97.60                   0.38   \n",
       "2                1292.6              1063.4      96.70                   1.84   \n",
       "3                 191.4              1168.0     105.40                   0.93   \n",
       "4                1044.6              1729.8      96.10                   0.78   \n",
       "..                  ...                 ...        ...                    ...   \n",
       "625               862.0              1240.7      98.65                   0.39   \n",
       "626               450.0               729.8     101.38                  -0.33   \n",
       "627               361.0              1195.7      99.34                  -0.32   \n",
       "628               342.0               913.5     100.15                   0.58   \n",
       "629               229.0              1193.9     102.64                  -0.03   \n",
       "\n",
       "     15+ labor  Year  \n",
       "0      3572.90  2011  \n",
       "1       608.30  2011  \n",
       "2       593.50  2011  \n",
       "3       675.00  2011  \n",
       "4      1071.00  2011  \n",
       "..         ...   ...  \n",
       "625     716.78  2020  \n",
       "626     402.33  2020  \n",
       "627     641.91  2020  \n",
       "628     507.76  2020  \n",
       "629     669.77  2020  \n",
       "\n",
       "[630 rows x 6 columns]"
      ]
     },
     "execution_count": 9,
     "metadata": {},
     "output_type": "execute_result"
    }
   ],
   "source": [
    "numerical_cols = population_df[['Population density', 'Average population', 'Sex ratio',\n",
    "                                'Population grow ratio','15+ labor', 'Year']].copy()\n",
    "numerical_cols"
   ]
  },
  {
   "cell_type": "markdown",
   "metadata": {},
   "source": [
    "Với mỗi cột numeric ta sẽ tính tỉ lệ % giá trị thiếu (từ 0 đến 100), min, max. Và lưu kết quả vào Dataframe `nume_col_profiles_df`.\n",
    "Dataframe này gồm có:\n",
    "- 3 dòng là `missing_ratio`, `min`, `max` lần lượt là tỉ lệ các giá trị thiếu mỗi cột, min và max.\n",
    "- 5 cột là `Population density`, `Average population`, `Sex ratio`, `Population grow ratio`, `15+ labor`, `Year`."
   ]
  },
  {
   "cell_type": "code",
   "execution_count": 10,
   "metadata": {},
   "outputs": [
    {
     "data": {
      "text/html": [
       "<div>\n",
       "<style scoped>\n",
       "    .dataframe tbody tr th:only-of-type {\n",
       "        vertical-align: middle;\n",
       "    }\n",
       "\n",
       "    .dataframe tbody tr th {\n",
       "        vertical-align: top;\n",
       "    }\n",
       "\n",
       "    .dataframe thead th {\n",
       "        text-align: right;\n",
       "    }\n",
       "</style>\n",
       "<table border=\"1\" class=\"dataframe\">\n",
       "  <thead>\n",
       "    <tr style=\"text-align: right;\">\n",
       "      <th></th>\n",
       "      <th>Population density</th>\n",
       "      <th>Average population</th>\n",
       "      <th>Sex ratio</th>\n",
       "      <th>Population grow ratio</th>\n",
       "      <th>15+ labor</th>\n",
       "      <th>Year</th>\n",
       "    </tr>\n",
       "  </thead>\n",
       "  <tbody>\n",
       "    <tr>\n",
       "      <th>missing_ratio</th>\n",
       "      <td>0.0</td>\n",
       "      <td>0.0</td>\n",
       "      <td>0.0</td>\n",
       "      <td>0.00</td>\n",
       "      <td>0.0</td>\n",
       "      <td>0.0</td>\n",
       "    </tr>\n",
       "    <tr>\n",
       "      <th>min</th>\n",
       "      <td>42.9</td>\n",
       "      <td>300.4</td>\n",
       "      <td>91.1</td>\n",
       "      <td>-1.22</td>\n",
       "      <td>199.6</td>\n",
       "      <td>2011.0</td>\n",
       "    </tr>\n",
       "    <tr>\n",
       "      <th>max</th>\n",
       "      <td>4476.0</td>\n",
       "      <td>9227.6</td>\n",
       "      <td>114.1</td>\n",
       "      <td>5.30</td>\n",
       "      <td>4826.0</td>\n",
       "      <td>2020.0</td>\n",
       "    </tr>\n",
       "  </tbody>\n",
       "</table>\n",
       "</div>"
      ],
      "text/plain": [
       "               Population density  Average population  Sex ratio  \\\n",
       "missing_ratio                 0.0                 0.0        0.0   \n",
       "min                          42.9               300.4       91.1   \n",
       "max                        4476.0              9227.6      114.1   \n",
       "\n",
       "               Population grow ratio  15+ labor    Year  \n",
       "missing_ratio                   0.00        0.0     0.0  \n",
       "min                            -1.22      199.6  2011.0  \n",
       "max                             5.30     4826.0  2020.0  "
      ]
     },
     "execution_count": 10,
     "metadata": {},
     "output_type": "execute_result"
    }
   ],
   "source": [
    "def missing_ratio(c):\n",
    "    return  c.isna().sum()/len(population_df) * 100\n",
    "\n",
    "def min(c):\n",
    "    return c.min()\n",
    "\n",
    "def max(c):\n",
    "    return c.max()\n",
    "\n",
    "nume_col_profiles_df = numerical_cols.agg([missing_ratio, min, max])\n",
    "nume_col_profiles_df"
   ]
  },
  {
   "cell_type": "markdown",
   "metadata": {},
   "source": [
    "### Với mỗi cột có kiểu dữ liệu dạng phân loại (categorical), các giá trị được phân bố như thế nào"
   ]
  },
  {
   "cell_type": "markdown",
   "metadata": {},
   "source": [
    "`population_df` có 2 cột categorical là \"Provinces/city\", \"Region\"."
   ]
  },
  {
   "cell_type": "code",
   "execution_count": 11,
   "metadata": {},
   "outputs": [
    {
     "data": {
      "text/html": [
       "<div>\n",
       "<style scoped>\n",
       "    .dataframe tbody tr th:only-of-type {\n",
       "        vertical-align: middle;\n",
       "    }\n",
       "\n",
       "    .dataframe tbody tr th {\n",
       "        vertical-align: top;\n",
       "    }\n",
       "\n",
       "    .dataframe thead th {\n",
       "        text-align: right;\n",
       "    }\n",
       "</style>\n",
       "<table border=\"1\" class=\"dataframe\">\n",
       "  <thead>\n",
       "    <tr style=\"text-align: right;\">\n",
       "      <th></th>\n",
       "      <th>Provinces/city</th>\n",
       "      <th>Region</th>\n",
       "    </tr>\n",
       "  </thead>\n",
       "  <tbody>\n",
       "    <tr>\n",
       "      <th>0</th>\n",
       "      <td>Ha Noi</td>\n",
       "      <td>Hong river Delta</td>\n",
       "    </tr>\n",
       "    <tr>\n",
       "      <th>1</th>\n",
       "      <td>Vinh Phuc</td>\n",
       "      <td>Hong river Delta</td>\n",
       "    </tr>\n",
       "    <tr>\n",
       "      <th>2</th>\n",
       "      <td>Bac Ninh</td>\n",
       "      <td>Hong river Delta</td>\n",
       "    </tr>\n",
       "    <tr>\n",
       "      <th>3</th>\n",
       "      <td>Quang Ninh</td>\n",
       "      <td>Hong river Delta</td>\n",
       "    </tr>\n",
       "    <tr>\n",
       "      <th>4</th>\n",
       "      <td>Hai Duong</td>\n",
       "      <td>Hong river Delta</td>\n",
       "    </tr>\n",
       "    <tr>\n",
       "      <th>...</th>\n",
       "      <td>...</td>\n",
       "      <td>...</td>\n",
       "    </tr>\n",
       "    <tr>\n",
       "      <th>625</th>\n",
       "      <td>Can Tho</td>\n",
       "      <td>Mekong Delta</td>\n",
       "    </tr>\n",
       "    <tr>\n",
       "      <th>626</th>\n",
       "      <td>Hau Giang</td>\n",
       "      <td>Mekong Delta</td>\n",
       "    </tr>\n",
       "    <tr>\n",
       "      <th>627</th>\n",
       "      <td>Soc Trang</td>\n",
       "      <td>Mekong Delta</td>\n",
       "    </tr>\n",
       "    <tr>\n",
       "      <th>628</th>\n",
       "      <td>Bac Lieu</td>\n",
       "      <td>Mekong Delta</td>\n",
       "    </tr>\n",
       "    <tr>\n",
       "      <th>629</th>\n",
       "      <td>Ca Mau</td>\n",
       "      <td>Mekong Delta</td>\n",
       "    </tr>\n",
       "  </tbody>\n",
       "</table>\n",
       "<p>630 rows × 2 columns</p>\n",
       "</div>"
      ],
      "text/plain": [
       "    Provinces/city            Region\n",
       "0           Ha Noi  Hong river Delta\n",
       "1        Vinh Phuc  Hong river Delta\n",
       "2         Bac Ninh  Hong river Delta\n",
       "3       Quang Ninh  Hong river Delta\n",
       "4        Hai Duong  Hong river Delta\n",
       "..             ...               ...\n",
       "625        Can Tho      Mekong Delta\n",
       "626      Hau Giang      Mekong Delta\n",
       "627      Soc Trang      Mekong Delta\n",
       "628       Bac Lieu      Mekong Delta\n",
       "629         Ca Mau      Mekong Delta\n",
       "\n",
       "[630 rows x 2 columns]"
      ]
     },
     "metadata": {},
     "output_type": "display_data"
    }
   ],
   "source": [
    "pd.set_option('display.max_colwidth', None)\n",
    "object_cols=population_df[population_df.select_dtypes(include=['object']).columns]\n",
    "display(object_cols)"
   ]
  },
  {
   "cell_type": "markdown",
   "metadata": {},
   "source": [
    "Với mỗi cột categorical, ta tính tỉ lệ % giá trị thiếu (từ 0 đến 100), số lượng giá trị khác nhau (không xét giá trị thiếu), list/array các giá trị khác nhau (không xét giá trị thiếu). Kết quả được lưu vào dataframe `cate_col_profiles_df`. Dataframe này có 3 dòng là \"missing_ratio\", \"num_diff_vals\", \"ratio_diff_vals\"; và có 2 cột là \"Provinces/city\", \"Region\"."
   ]
  },
  {
   "cell_type": "code",
   "execution_count": 12,
   "metadata": {},
   "outputs": [
    {
     "data": {
      "text/html": [
       "<div>\n",
       "<style scoped>\n",
       "    .dataframe tbody tr th:only-of-type {\n",
       "        vertical-align: middle;\n",
       "    }\n",
       "\n",
       "    .dataframe tbody tr th {\n",
       "        vertical-align: top;\n",
       "    }\n",
       "\n",
       "    .dataframe thead th {\n",
       "        text-align: right;\n",
       "    }\n",
       "</style>\n",
       "<table border=\"1\" class=\"dataframe\">\n",
       "  <thead>\n",
       "    <tr style=\"text-align: right;\">\n",
       "      <th></th>\n",
       "      <th>Provinces/city</th>\n",
       "      <th>Region</th>\n",
       "    </tr>\n",
       "  </thead>\n",
       "  <tbody>\n",
       "    <tr>\n",
       "      <th>missing_ratio</th>\n",
       "      <td>0.0</td>\n",
       "      <td>0.0</td>\n",
       "    </tr>\n",
       "    <tr>\n",
       "      <th>num_diff_vals</th>\n",
       "      <td>63</td>\n",
       "      <td>6</td>\n",
       "    </tr>\n",
       "    <tr>\n",
       "      <th>ratio_diff_vals</th>\n",
       "      <td>{'Ha Noi': 0.02, 'Dong Nai': 0.02, 'Binh Dinh': 0.02, 'Phu Yen': 0.02, 'Khanh Hoa': 0.02, 'Ninh Thuan': 0.02, 'Binh Thuan': 0.02, 'Kon Tum': 0.02, 'Gia Lai': 0.02, 'Dak Lak': 0.02, 'Dak Nong': 0.02, 'Lam Dong': 0.02, 'Binh Phuoc': 0.02, 'Tay Ninh': 0.02, 'Binh Duong': 0.02, 'Ba Ria - Vung Tau': 0.02, 'Quang Nam': 0.02, 'Ho Chi Minh': 0.02, 'Long An': 0.02, 'Tien Giang': 0.02, 'Ben Tre': 0.02, 'Tra Vinh': 0.02, 'Vinh Long': 0.02, 'Dong Thap': 0.02, 'An Giang': 0.02, 'Kien Giang': 0.02, 'Can Tho': 0.02, 'Hau Giang': 0.02, 'Soc Trang': 0.02, 'Bac Lieu': 0.02, 'Quang Ngai': 0.02, 'Da Nang': 0.02, 'Vinh Phuc': 0.02, 'Lao Cai': 0.02, 'Bac Ninh': 0.02, 'Quang Ninh': 0.02, 'Hai Duong': 0.02, 'Hai Phong': 0.02, 'Hung Yen': 0.02, 'Thai Binh': 0.02, 'Ha Nam': 0.02, 'Nam Dinh': 0.02, 'Ninh Binh': 0.02, 'Ha Giang': 0.02, 'Cao Bang': 0.02, 'Bac Kan': 0.02, 'Tuyen Quang': 0.02, 'Yen Bai': 0.02, 'Thua Thien Hue': 0.02, 'Thai Nguyen': 0.02, 'Lang Son': 0.02, 'Bac Giang': 0.02, 'Phu Tho': 0.02, 'Dien Bien': 0.02, 'Lai Chau': 0.02, 'Son La': 0.02, 'Hoa Binh': 0.02, 'Thanh Hoa': 0.02, 'Nghe An': 0.02, 'Ha Tinh': 0.02, 'Quang Binh': 0.02, 'Quang Tri': 0.02, 'Ca Mau': 0.02}</td>\n",
       "      <td>{'Midlands and northern mountains': 0.22, 'North Central and Central Coast': 0.22, 'Mekong Delta': 0.21, 'Hong river Delta': 0.17, 'South East': 0.1, 'Highlands': 0.08}</td>\n",
       "    </tr>\n",
       "  </tbody>\n",
       "</table>\n",
       "</div>"
      ],
      "text/plain": [
       "                                                                                                                                                                                                                                                                                                                                                                                                                                                                                                                                                                                                                                                                                                                                                                                                                                                                                                                                                                                                                                                                                                                                                                                                                     Provinces/city  \\\n",
       "missing_ratio                                                                                                                                                                                                                                                                                                                                                                                                                                                                                                                                                                                                                                                                                                                                                                                                                                                                                                                                                                                                                                                                                                                                                                                                                   0.0   \n",
       "num_diff_vals                                                                                                                                                                                                                                                                                                                                                                                                                                                                                                                                                                                                                                                                                                                                                                                                                                                                                                                                                                                                                                                                                                                                                                                                                    63   \n",
       "ratio_diff_vals  {'Ha Noi': 0.02, 'Dong Nai': 0.02, 'Binh Dinh': 0.02, 'Phu Yen': 0.02, 'Khanh Hoa': 0.02, 'Ninh Thuan': 0.02, 'Binh Thuan': 0.02, 'Kon Tum': 0.02, 'Gia Lai': 0.02, 'Dak Lak': 0.02, 'Dak Nong': 0.02, 'Lam Dong': 0.02, 'Binh Phuoc': 0.02, 'Tay Ninh': 0.02, 'Binh Duong': 0.02, 'Ba Ria - Vung Tau': 0.02, 'Quang Nam': 0.02, 'Ho Chi Minh': 0.02, 'Long An': 0.02, 'Tien Giang': 0.02, 'Ben Tre': 0.02, 'Tra Vinh': 0.02, 'Vinh Long': 0.02, 'Dong Thap': 0.02, 'An Giang': 0.02, 'Kien Giang': 0.02, 'Can Tho': 0.02, 'Hau Giang': 0.02, 'Soc Trang': 0.02, 'Bac Lieu': 0.02, 'Quang Ngai': 0.02, 'Da Nang': 0.02, 'Vinh Phuc': 0.02, 'Lao Cai': 0.02, 'Bac Ninh': 0.02, 'Quang Ninh': 0.02, 'Hai Duong': 0.02, 'Hai Phong': 0.02, 'Hung Yen': 0.02, 'Thai Binh': 0.02, 'Ha Nam': 0.02, 'Nam Dinh': 0.02, 'Ninh Binh': 0.02, 'Ha Giang': 0.02, 'Cao Bang': 0.02, 'Bac Kan': 0.02, 'Tuyen Quang': 0.02, 'Yen Bai': 0.02, 'Thua Thien Hue': 0.02, 'Thai Nguyen': 0.02, 'Lang Son': 0.02, 'Bac Giang': 0.02, 'Phu Tho': 0.02, 'Dien Bien': 0.02, 'Lai Chau': 0.02, 'Son La': 0.02, 'Hoa Binh': 0.02, 'Thanh Hoa': 0.02, 'Nghe An': 0.02, 'Ha Tinh': 0.02, 'Quang Binh': 0.02, 'Quang Tri': 0.02, 'Ca Mau': 0.02}   \n",
       "\n",
       "                                                                                                                                                                                   Region  \n",
       "missing_ratio                                                                                                                                                                         0.0  \n",
       "num_diff_vals                                                                                                                                                                           6  \n",
       "ratio_diff_vals  {'Midlands and northern mountains': 0.22, 'North Central and Central Coast': 0.22, 'Mekong Delta': 0.21, 'Hong river Delta': 0.17, 'South East': 0.1, 'Highlands': 0.08}  "
      ]
     },
     "execution_count": 12,
     "metadata": {},
     "output_type": "execute_result"
    }
   ],
   "source": [
    "def num_diff_vals(col):\n",
    "    return len(col.value_counts())\n",
    "\n",
    "def ratio_diff_vals(col):\n",
    "    return np.round(col.value_counts(normalize=True),2).to_dict()\n",
    "cate_col_profiles_df=object_cols.agg([missing_ratio,num_diff_vals,ratio_diff_vals])\n",
    "cate_col_profiles_df"
   ]
  },
  {
   "cell_type": "markdown",
   "metadata": {},
   "source": [
    "## Đưa ra các câu hỏi"
   ]
  },
  {
   "attachments": {},
   "cell_type": "markdown",
   "metadata": {},
   "source": [
    "### Câu 3:Tỷ lệ lao động sẵn sàng của từng khu vực, các tác nhân nào có thể ảnh hưởng đến xu hướng thay đổi tỷ lệ lao động của từng khu vực?"
   ]
  },
  {
   "attachments": {},
   "cell_type": "markdown",
   "metadata": {},
   "source": [
    "**Ý nghĩa khi trả lời câu hỏi:**\n",
    "- Có cái nhìn tổng quan về tỷ lệ người lao động của từng khu vực, xu hướng thay đổi về lực lượng lao động qua từng năm.\n",
    "- Cố gắng tìm ra các tác nhân có thể ảnh hưởng đến xu hướng đó.\n",
    "\n",
    "**Các bước cần làm để trả lời câu hỏi:**\n",
    "- Tính tỉ lệ lao động trên 15 tuổi của từng khu vực qua từng năm\n",
    "- Trực quan hóa bằng biểu đồ heatmap và biểu đồ đường rồi rút ra nhận xét\n",
    "- Phân tích các tác nhân có khả năng sẽ liên quan đến xu hướng thay đổi tỷ lệ lao động và rút ra nhận xét"
   ]
  },
  {
   "attachments": {},
   "cell_type": "markdown",
   "metadata": {},
   "source": [
    "Đầu tiên ta đi tính tỷ lệ lao động trên 15 tuổi của từng tỉnh"
   ]
  },
  {
   "cell_type": "code",
   "execution_count": 13,
   "metadata": {},
   "outputs": [
    {
     "data": {
      "text/html": [
       "<div>\n",
       "<style scoped>\n",
       "    .dataframe tbody tr th:only-of-type {\n",
       "        vertical-align: middle;\n",
       "    }\n",
       "\n",
       "    .dataframe tbody tr th {\n",
       "        vertical-align: top;\n",
       "    }\n",
       "\n",
       "    .dataframe thead th {\n",
       "        text-align: right;\n",
       "    }\n",
       "</style>\n",
       "<table border=\"1\" class=\"dataframe\">\n",
       "  <thead>\n",
       "    <tr style=\"text-align: right;\">\n",
       "      <th></th>\n",
       "      <th>Provinces/city</th>\n",
       "      <th>Average population</th>\n",
       "      <th>Population grow ratio</th>\n",
       "      <th>15+ labor</th>\n",
       "      <th>Region</th>\n",
       "      <th>Year</th>\n",
       "      <th>Labor_ratio</th>\n",
       "    </tr>\n",
       "  </thead>\n",
       "  <tbody>\n",
       "    <tr>\n",
       "      <th>0</th>\n",
       "      <td>Ha Noi</td>\n",
       "      <td>6761.3</td>\n",
       "      <td>1.93</td>\n",
       "      <td>3572.90</td>\n",
       "      <td>Hong river Delta</td>\n",
       "      <td>2011</td>\n",
       "      <td>0.528434</td>\n",
       "    </tr>\n",
       "    <tr>\n",
       "      <th>1</th>\n",
       "      <td>Vinh Phuc</td>\n",
       "      <td>1011.4</td>\n",
       "      <td>0.38</td>\n",
       "      <td>608.30</td>\n",
       "      <td>Hong river Delta</td>\n",
       "      <td>2011</td>\n",
       "      <td>0.601444</td>\n",
       "    </tr>\n",
       "    <tr>\n",
       "      <th>2</th>\n",
       "      <td>Bac Ninh</td>\n",
       "      <td>1063.4</td>\n",
       "      <td>1.84</td>\n",
       "      <td>593.50</td>\n",
       "      <td>Hong river Delta</td>\n",
       "      <td>2011</td>\n",
       "      <td>0.558115</td>\n",
       "    </tr>\n",
       "    <tr>\n",
       "      <th>3</th>\n",
       "      <td>Quang Ninh</td>\n",
       "      <td>1168.0</td>\n",
       "      <td>0.93</td>\n",
       "      <td>675.00</td>\n",
       "      <td>Hong river Delta</td>\n",
       "      <td>2011</td>\n",
       "      <td>0.577911</td>\n",
       "    </tr>\n",
       "    <tr>\n",
       "      <th>4</th>\n",
       "      <td>Hai Duong</td>\n",
       "      <td>1729.8</td>\n",
       "      <td>0.78</td>\n",
       "      <td>1071.00</td>\n",
       "      <td>Hong river Delta</td>\n",
       "      <td>2011</td>\n",
       "      <td>0.619147</td>\n",
       "    </tr>\n",
       "    <tr>\n",
       "      <th>...</th>\n",
       "      <td>...</td>\n",
       "      <td>...</td>\n",
       "      <td>...</td>\n",
       "      <td>...</td>\n",
       "      <td>...</td>\n",
       "      <td>...</td>\n",
       "      <td>...</td>\n",
       "    </tr>\n",
       "    <tr>\n",
       "      <th>625</th>\n",
       "      <td>Can Tho</td>\n",
       "      <td>1240.7</td>\n",
       "      <td>0.39</td>\n",
       "      <td>716.78</td>\n",
       "      <td>Mekong Delta</td>\n",
       "      <td>2020</td>\n",
       "      <td>0.577722</td>\n",
       "    </tr>\n",
       "    <tr>\n",
       "      <th>626</th>\n",
       "      <td>Hau Giang</td>\n",
       "      <td>729.8</td>\n",
       "      <td>-0.33</td>\n",
       "      <td>402.33</td>\n",
       "      <td>Mekong Delta</td>\n",
       "      <td>2020</td>\n",
       "      <td>0.551288</td>\n",
       "    </tr>\n",
       "    <tr>\n",
       "      <th>627</th>\n",
       "      <td>Soc Trang</td>\n",
       "      <td>1195.7</td>\n",
       "      <td>-0.32</td>\n",
       "      <td>641.91</td>\n",
       "      <td>Mekong Delta</td>\n",
       "      <td>2020</td>\n",
       "      <td>0.536849</td>\n",
       "    </tr>\n",
       "    <tr>\n",
       "      <th>628</th>\n",
       "      <td>Bac Lieu</td>\n",
       "      <td>913.5</td>\n",
       "      <td>0.58</td>\n",
       "      <td>507.76</td>\n",
       "      <td>Mekong Delta</td>\n",
       "      <td>2020</td>\n",
       "      <td>0.555840</td>\n",
       "    </tr>\n",
       "    <tr>\n",
       "      <th>629</th>\n",
       "      <td>Ca Mau</td>\n",
       "      <td>1193.9</td>\n",
       "      <td>-0.03</td>\n",
       "      <td>669.77</td>\n",
       "      <td>Mekong Delta</td>\n",
       "      <td>2020</td>\n",
       "      <td>0.560993</td>\n",
       "    </tr>\n",
       "  </tbody>\n",
       "</table>\n",
       "<p>630 rows × 7 columns</p>\n",
       "</div>"
      ],
      "text/plain": [
       "    Provinces/city  Average population  Population grow ratio  15+ labor  \\\n",
       "0           Ha Noi              6761.3                   1.93    3572.90   \n",
       "1        Vinh Phuc              1011.4                   0.38     608.30   \n",
       "2         Bac Ninh              1063.4                   1.84     593.50   \n",
       "3       Quang Ninh              1168.0                   0.93     675.00   \n",
       "4        Hai Duong              1729.8                   0.78    1071.00   \n",
       "..             ...                 ...                    ...        ...   \n",
       "625        Can Tho              1240.7                   0.39     716.78   \n",
       "626      Hau Giang               729.8                  -0.33     402.33   \n",
       "627      Soc Trang              1195.7                  -0.32     641.91   \n",
       "628       Bac Lieu               913.5                   0.58     507.76   \n",
       "629         Ca Mau              1193.9                  -0.03     669.77   \n",
       "\n",
       "               Region  Year  Labor_ratio  \n",
       "0    Hong river Delta  2011     0.528434  \n",
       "1    Hong river Delta  2011     0.601444  \n",
       "2    Hong river Delta  2011     0.558115  \n",
       "3    Hong river Delta  2011     0.577911  \n",
       "4    Hong river Delta  2011     0.619147  \n",
       "..                ...   ...          ...  \n",
       "625      Mekong Delta  2020     0.577722  \n",
       "626      Mekong Delta  2020     0.551288  \n",
       "627      Mekong Delta  2020     0.536849  \n",
       "628      Mekong Delta  2020     0.555840  \n",
       "629      Mekong Delta  2020     0.560993  \n",
       "\n",
       "[630 rows x 7 columns]"
      ]
     },
     "execution_count": 13,
     "metadata": {},
     "output_type": "execute_result"
    }
   ],
   "source": [
    "labor_df1=population_df[[\"Provinces/city\",\"Average population\",\"Population grow ratio\",\"15+ labor\",\"Region\",\"Year\"]].copy()\n",
    "labor_df1[\"Labor_ratio\"] = labor_df1[\"15+ labor\"]/labor_df1[\"Average population\"]\n",
    "labor_df1"
   ]
  },
  {
   "attachments": {},
   "cell_type": "markdown",
   "metadata": {},
   "source": [
    "Ta tiến hành tính tỉ lệ lao động trung bình của từng khu vực qua từng năm"
   ]
  },
  {
   "cell_type": "code",
   "execution_count": 14,
   "metadata": {},
   "outputs": [
    {
     "data": {
      "text/html": [
       "<div>\n",
       "<style scoped>\n",
       "    .dataframe tbody tr th:only-of-type {\n",
       "        vertical-align: middle;\n",
       "    }\n",
       "\n",
       "    .dataframe tbody tr th {\n",
       "        vertical-align: top;\n",
       "    }\n",
       "\n",
       "    .dataframe thead th {\n",
       "        text-align: right;\n",
       "    }\n",
       "</style>\n",
       "<table border=\"1\" class=\"dataframe\">\n",
       "  <thead>\n",
       "    <tr style=\"text-align: right;\">\n",
       "      <th>Region</th>\n",
       "      <th>Highlands</th>\n",
       "      <th>Hong river Delta</th>\n",
       "      <th>Mekong Delta</th>\n",
       "      <th>Midlands and northern mountains</th>\n",
       "      <th>North Central and Central Coast</th>\n",
       "      <th>South East</th>\n",
       "    </tr>\n",
       "    <tr>\n",
       "      <th>Year</th>\n",
       "      <th></th>\n",
       "      <th></th>\n",
       "      <th></th>\n",
       "      <th></th>\n",
       "      <th></th>\n",
       "      <th></th>\n",
       "    </tr>\n",
       "  </thead>\n",
       "  <tbody>\n",
       "    <tr>\n",
       "      <th>2011</th>\n",
       "      <td>0.579075</td>\n",
       "      <td>0.591130</td>\n",
       "      <td>0.591707</td>\n",
       "      <td>0.624949</td>\n",
       "      <td>0.570646</td>\n",
       "      <td>0.583586</td>\n",
       "    </tr>\n",
       "    <tr>\n",
       "      <th>2012</th>\n",
       "      <td>0.585297</td>\n",
       "      <td>0.592200</td>\n",
       "      <td>0.595151</td>\n",
       "      <td>0.632242</td>\n",
       "      <td>0.577886</td>\n",
       "      <td>0.592055</td>\n",
       "    </tr>\n",
       "    <tr>\n",
       "      <th>2013</th>\n",
       "      <td>0.599424</td>\n",
       "      <td>0.599824</td>\n",
       "      <td>0.591169</td>\n",
       "      <td>0.644178</td>\n",
       "      <td>0.586540</td>\n",
       "      <td>0.585780</td>\n",
       "    </tr>\n",
       "    <tr>\n",
       "      <th>2014</th>\n",
       "      <td>0.601983</td>\n",
       "      <td>0.596392</td>\n",
       "      <td>0.587670</td>\n",
       "      <td>0.644695</td>\n",
       "      <td>0.594271</td>\n",
       "      <td>0.577353</td>\n",
       "    </tr>\n",
       "    <tr>\n",
       "      <th>2015</th>\n",
       "      <td>0.610021</td>\n",
       "      <td>0.589546</td>\n",
       "      <td>0.587976</td>\n",
       "      <td>0.644571</td>\n",
       "      <td>0.588814</td>\n",
       "      <td>0.575504</td>\n",
       "    </tr>\n",
       "    <tr>\n",
       "      <th>2016</th>\n",
       "      <td>0.611232</td>\n",
       "      <td>0.585111</td>\n",
       "      <td>0.595370</td>\n",
       "      <td>0.639579</td>\n",
       "      <td>0.587302</td>\n",
       "      <td>0.575487</td>\n",
       "    </tr>\n",
       "    <tr>\n",
       "      <th>2017</th>\n",
       "      <td>0.583627</td>\n",
       "      <td>0.589419</td>\n",
       "      <td>0.577572</td>\n",
       "      <td>0.621847</td>\n",
       "      <td>0.544542</td>\n",
       "      <td>0.602459</td>\n",
       "    </tr>\n",
       "    <tr>\n",
       "      <th>2018</th>\n",
       "      <td>0.579262</td>\n",
       "      <td>0.586751</td>\n",
       "      <td>0.579144</td>\n",
       "      <td>0.625534</td>\n",
       "      <td>0.543597</td>\n",
       "      <td>0.597554</td>\n",
       "    </tr>\n",
       "    <tr>\n",
       "      <th>2019</th>\n",
       "      <td>0.593276</td>\n",
       "      <td>0.566933</td>\n",
       "      <td>0.584474</td>\n",
       "      <td>0.620953</td>\n",
       "      <td>0.544261</td>\n",
       "      <td>0.587004</td>\n",
       "    </tr>\n",
       "    <tr>\n",
       "      <th>2020</th>\n",
       "      <td>0.580561</td>\n",
       "      <td>0.544911</td>\n",
       "      <td>0.570912</td>\n",
       "      <td>0.607692</td>\n",
       "      <td>0.527541</td>\n",
       "      <td>0.568269</td>\n",
       "    </tr>\n",
       "  </tbody>\n",
       "</table>\n",
       "</div>"
      ],
      "text/plain": [
       "Region  Highlands  Hong river Delta  Mekong Delta  \\\n",
       "Year                                                \n",
       "2011     0.579075          0.591130      0.591707   \n",
       "2012     0.585297          0.592200      0.595151   \n",
       "2013     0.599424          0.599824      0.591169   \n",
       "2014     0.601983          0.596392      0.587670   \n",
       "2015     0.610021          0.589546      0.587976   \n",
       "2016     0.611232          0.585111      0.595370   \n",
       "2017     0.583627          0.589419      0.577572   \n",
       "2018     0.579262          0.586751      0.579144   \n",
       "2019     0.593276          0.566933      0.584474   \n",
       "2020     0.580561          0.544911      0.570912   \n",
       "\n",
       "Region  Midlands and northern mountains  North Central and Central Coast  \\\n",
       "Year                                                                       \n",
       "2011                           0.624949                         0.570646   \n",
       "2012                           0.632242                         0.577886   \n",
       "2013                           0.644178                         0.586540   \n",
       "2014                           0.644695                         0.594271   \n",
       "2015                           0.644571                         0.588814   \n",
       "2016                           0.639579                         0.587302   \n",
       "2017                           0.621847                         0.544542   \n",
       "2018                           0.625534                         0.543597   \n",
       "2019                           0.620953                         0.544261   \n",
       "2020                           0.607692                         0.527541   \n",
       "\n",
       "Region  South East  \n",
       "Year                \n",
       "2011      0.583586  \n",
       "2012      0.592055  \n",
       "2013      0.585780  \n",
       "2014      0.577353  \n",
       "2015      0.575504  \n",
       "2016      0.575487  \n",
       "2017      0.602459  \n",
       "2018      0.597554  \n",
       "2019      0.587004  \n",
       "2020      0.568269  "
      ]
     },
     "execution_count": 14,
     "metadata": {},
     "output_type": "execute_result"
    }
   ],
   "source": [
    "region_labor = labor_df1.groupby(['Region','Year'])['Labor_ratio'].mean()\n",
    "region_labor = region_labor.unstack(level=0)\n",
    "region_labor"
   ]
  },
  {
   "attachments": {},
   "cell_type": "markdown",
   "metadata": {},
   "source": [
    "Vẽ biểu đồ heatmap thể hiện tỉ lệ lao động trung bình của từng khu vực qua các năm"
   ]
  },
  {
   "cell_type": "code",
   "execution_count": 15,
   "metadata": {},
   "outputs": [
    {
     "data": {
      "image/png": "[encoded data removed]",
      "text/plain": [
       "<Figure size 720x720 with 2 Axes>"
      ]
     },
     "metadata": {
      "needs_background": "light"
     },
     "output_type": "display_data"
    }
   ],
   "source": [
    "plt.figure(figsize=(10, 10))\n",
    "sns.heatmap(region_labor, linewidth=0.5)\n",
    "plt.xlabel('Region')\n",
    "plt.ylabel('Year')\n",
    "plt.title('Region labor')\n",
    "plt.xticks(rotation=45)\n",
    "plt.show()"
   ]
  },
  {
   "attachments": {},
   "cell_type": "markdown",
   "metadata": {},
   "source": [
    "Vẽ biểu đồ đường thể hiện tỉ lệ lao động từng năm của các khu vực"
   ]
  },
  {
   "cell_type": "code",
   "execution_count": 24,
   "metadata": {},
   "outputs": [
    {
     "data": {
      "text/plain": [
       "<AxesSubplot:xlabel='Year'>"
      ]
     },
     "execution_count": 24,
     "metadata": {},
     "output_type": "execute_result"
    },
    {
     "data": {
      "image/png": "[encoded data removed]",
      "text/plain": [
       "<Figure size 1080x720 with 1 Axes>"
      ]
     },
     "metadata": {
      "needs_background": "light"
     },
     "output_type": "display_data"
    }
   ],
   "source": [
    "plt.figure(figsize=(15, 10))\n",
    "sns.lineplot(data=region_labor)"
   ]
  },
  {
   "attachments": {},
   "cell_type": "markdown",
   "metadata": {},
   "source": [
    "Nhìn chung tỉ lệ người lao động trên 15 tuổi giữa các vùng không có sự chênh lệch nhiều lắm. Quan sát tone màu cùng với biểu đồ đường, ta có thể thấy rằng tỉ lệ người lao động trên 15 tuổi ở khu vực Trung du và miền núi Bắc Bộ là nhiều nhất. Việc này là dễ hiểu khi đa số người dân ở khu vực này chưa có trình độ học vấn cao nên họ thường có xu hướng học nghề và đi làm sau khi tốt nghiệp cấp 2. Việc tỉ lệ lao động các vùng đồng đều nhau như thế này cũng dẫn đến một tình trạng đó chính là lượng người lao động ở vùng miền núi, nông thôn lại quá thừa trong khi nhu cầu nguồn nhân lực ở các vùng này lại không cao và các vùng thành thị vẫn đang trong tình trạng thiếu nhân lực lao động. Để giải quyết vấn đề trên, chính phủ cần phải có các chính sách để tạo cơ hội giúp người lao động ở vùng miền núi nông thôn có thể tìm việc làm ở thành thị, giúp đáp ứng thêm nhu cầu nhân lực ở đây."
   ]
  },
  {
   "attachments": {},
   "cell_type": "markdown",
   "metadata": {},
   "source": [
    "Ngoài ra ta cũng có thể thấy tỷ lệ lao động khoảng năm 2019-2020 có xu hướng giảm xuống, việc này có thể giiar thích là do ảnh hưởng của trận đại dịch covid và việc giãn cách xã hội đã khiến nhiều người mất đi việc làm."
   ]
  },
  {
   "attachments": {},
   "cell_type": "markdown",
   "metadata": {},
   "source": [
    "Tiếp đến, ta cùng xét tới các yếu tố về dân số để xem thử chúng có liên quan đến xu hướng tỉ lệ lao động ở trên hay không."
   ]
  },
  {
   "attachments": {},
   "cell_type": "markdown",
   "metadata": {},
   "source": [
    "Ở đây, trước tiên ta sẽ xét tới xu hướng tăng giảm của dân số qua từng năm, cũng như tỉ lệ gia tăng dân số. "
   ]
  },
  {
   "cell_type": "code",
   "execution_count": 17,
   "metadata": {},
   "outputs": [
    {
     "data": {
      "image/png": "[encoded data removed]",
      "text/plain": [
       "<Figure size 1080x360 with 2 Axes>"
      ]
     },
     "metadata": {
      "needs_background": "light"
     },
     "output_type": "display_data"
    }
   ],
   "source": [
    "grow_ratio_labor = labor_df1.groupby(['Region','Year'])['Population grow ratio'].mean()\n",
    "grow_ratio_labor = grow_ratio_labor.unstack(level=0)\n",
    "population_labor = labor_df1.groupby(['Region','Year'])['Average population'].mean()\n",
    "population_labor = population_labor.unstack(level=0)\n",
    "\n",
    "fig,axes = plt.subplots(1,2,figsize=(15,5))\n",
    "sns.lineplot(data=grow_ratio_labor, ax=axes[0])\n",
    "sns.lineplot(data=population_labor, ax=axes[1])\n",
    "axes[0].set_ylabel(\"Tỷ lệ gia tăng dân số\")\n",
    "axes[1].set_ylabel(\"Dân số trung bình\")\n",
    "axes[0].set_title(\"Tỷ lệ gia tăng dân số các khu vực qua từng năm\")\n",
    "axes[1].set_title(\"Dân số trung bình các khu vực qua từng năm\")\n",
    "plt.legend(loc=\"upper left\", bbox_to_anchor=(1, 1))\n",
    "axes[0].get_legend().remove()\n",
    "plt.show()"
   ]
  },
  {
   "attachments": {},
   "cell_type": "markdown",
   "metadata": {},
   "source": [
    "Ta thấy dân số trung bình của các khu vực tăng đều qua từng năm nhưng tỷ lệ gia tăng dân số ở một vài nơi lại có nhiều lúc giảm mạnh, ví dụ như Đồng Bằng Sông Cửu Long dấu hiệu giảm từ 0.5 xuống ngưỡng 0 kể từ năm 2016, hay Bắc Trung Bộ và Duyên Hải miền Trung giảm nhẹ theo từng năm, hay Tây Nguyên cũng giảm dần từ 2016. Các thông số có vẻ chưa thực sự liên quan lắm đến tỷ lệ lao động, ta thử tính độ tương quan của các thông số này qua từng vùng xem sao. "
   ]
  },
  {
   "cell_type": "code",
   "execution_count": 33,
   "metadata": {},
   "outputs": [
    {
     "name": "stdout",
     "output_type": "stream",
     "text": [
      "Correlation in Highlands region\n",
      "Population grow ratio    0.486502\n",
      "Average population      -0.108744\n",
      "dtype: float64\n",
      "\n",
      "Correlation in Hong river Delta region\n",
      "Population grow ratio   -0.526665\n",
      "Average population      -0.890253\n",
      "dtype: float64\n",
      "\n",
      "Correlation in Mekong Delta region\n",
      "Population grow ratio    0.757882\n",
      "Average population      -0.130824\n",
      "dtype: float64\n",
      "\n",
      "Correlation in Midlands and northern mountains region\n",
      "Population grow ratio    0.186036\n",
      "Average population      -0.653095\n",
      "dtype: float64\n",
      "\n",
      "Correlation in North Central and Central Coast region\n",
      "Population grow ratio    0.888132\n",
      "Average population      -0.934347\n",
      "dtype: float64\n",
      "\n",
      "Correlation in South East region\n",
      "Population grow ratio    0.059276\n",
      "Average population      -0.138370\n",
      "dtype: float64\n",
      "\n"
     ]
    }
   ],
   "source": [
    "for col in region_labor.columns:\n",
    "    region_col = region_labor[col]\n",
    "    region_col.rename(\"Labor ratio\", inplace=True)\n",
    "    grow_col = grow_ratio_labor[col]\n",
    "    grow_col.rename(\"Population grow ratio\", inplace=True)\n",
    "    population_col = population_labor[col]\n",
    "    population_col.rename(\"Average population\", inplace=True)\n",
    "    temp_df = pd.concat([region_col,grow_col,population_col], axis=1)\n",
    "    print(f\"Correlation in {col} region\")\n",
    "    print(temp_df[['Population grow ratio', 'Average population']].corrwith(temp_df['Labor ratio']))\n",
    "    print()\n",
    "    "
   ]
  },
  {
   "attachments": {},
   "cell_type": "markdown",
   "metadata": {},
   "source": [
    "Ngoại trừ Bắc Trung Bộ và Duyên hải miền Trung thì các khu vực còn lại đều có độ tương quan rất thấp. Chứng tỏ hai tác nhân trên vẫn chưa đủ để ảnh hưởng mạnh đến tỷ lệ lao động, một tác nhân khác mà ta có thể nghĩ đến chính là việc dân số nhập/di cư từ khu vực này sang khu vực khác. Do tập dữ liệu này không có thông số khác cho việc nhập/di cư nên ta chỉ có thể lờ mờ đoán được từ các thông số về dân số trung bình mà tác nhân chủ yếu đến từ tỷ lệ sinh/tử và tỷ lệ nhập/di cư. Thông số liên quan đến tỷ lệ gia tăng dân số không thực sự có liên quan trực tiếp đến tỷ lệ lao động vì số lượng ca sinh hoàn toàn không liên quan tới lượng người lao động vì nhưng đứa trẻ sinh vào khoảng thời gian đó cần phải 15 năm sau để có thể tham gia vào lực lượng lao động, tương tự thì ca tử phần lớn là những người già đã về hưu và không liên quan đến lực lượng lao động. Tuy vậy, nhờ nó mà ta có thể suy đoán được xu hướng nhập/di cư của người lao động ở các khu vực này và từ đó suy ra phần nào sự thay đổi về tỷ lệ người lao động. Ví dụ như tỉ lệ gia tăng dân số giảm ở 1 số khu vực nhưng dân số trung bình lại tăng, chứng tỏ đã có 1 lượng người di cư tới đây, ta cũng có thể suy luận ngược lại với người nhập cư."
   ]
  },
  {
   "cell_type": "markdown",
   "metadata": {},
   "source": [
    "## Tiền xử lý và phân tích dữ liệu để trả lời cho từng câu hỏi"
   ]
  }
 ],
 "metadata": {
  "kernelspec": {
   "display_name": "base",
   "language": "python",
   "name": "python3"
  },
  "language_info": {
   "codemirror_mode": {
    "name": "ipython",
    "version": 3
   },
   "file_extension": ".py",
   "mimetype": "text/x-python",
   "name": "python",
   "nbconvert_exporter": "python",
   "pygments_lexer": "ipython3",
   "version": "3.9.12"
  },
  "vscode": {
   "interpreter": {
    "hash": "2f155fbeb9494e5ce992090b8427abe3542dae7719d8ea0d05cb0b78608edd18"
   }
  }
 },
 "nbformat": 4,
 "nbformat_minor": 2
}
