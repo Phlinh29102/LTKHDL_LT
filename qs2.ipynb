{
 "cells": [
  {
   "cell_type": "code",
   "execution_count": null,
   "id": "b321932f-9b32-4568-b035-ad849de428ce",
   "metadata": {},
   "outputs": [],
   "source": [
    "# Import lib\n",
    "import pandas as pd\n",
    "import numpy as np"
   ]
  },
  {
   "cell_type": "code",
   "execution_count": null,
   "id": "10ffd0a4-8b09-4414-9bbc-436b8d69f8a3",
   "metadata": {},
   "outputs": [],
   "source": [
    "# Read data\n",
    "data = pd.read_csv(\"./Data/population_en_v2.csv\")\n",
    "data"
   ]
  },
  {
   "cell_type": "markdown",
   "id": "17846705-5546-4d8a-b016-7765962b8375",
   "metadata": {},
   "source": [
    "# Khám phá dữ liệu"
   ]
  },
  {
   "cell_type": "code",
   "execution_count": null,
   "id": "0b05ad49-cb7c-4788-a793-7f8f63905a5d",
   "metadata": {},
   "outputs": [],
   "source": [
    "col_dtypes = data.dtypes\n",
    "col_dtypes"
   ]
  },
  {
   "cell_type": "markdown",
   "id": "1fe4af36-66a5-43b7-adc6-bb1ab33e43d0",
   "metadata": {},
   "source": [
    "Các cột hầu như có kiểu dữ liệu đúng đắn, chẳng hạn như \"Provinces/city\" và \"Region\" là tên nên có kiểu dữ liệu object.  \n",
    "Cột \"Year\" để dễ xử lý cho các phần sau nên không đổi thành kiểu DateTime.  \n",
    "Các cột còn lại là số nên có kiểu số thực"
   ]
  },
  {
   "cell_type": "markdown",
   "id": "c3e45a9e-d23b-4ae8-9fd4-63abe8173317",
   "metadata": {},
   "source": [
    "# Câu hỏi: Dự đoán dân số trong vòng 5 năm kế tiếp."
   ]
  },
  {
   "cell_type": "markdown",
   "id": "f421dc79-65ad-448c-9358-d7a8a7b53658",
   "metadata": {},
   "source": [
    "Ý nghĩa: Đưa ra góc nhìn ngắn hạn để điều chỉnh chế độ kế hoạch hóa gia đình, dự trù cho nền kinh tế, dự đoán được các biến động xã hội có thể xảy ra khi dân số tăng vượt ngưỡng nào đó, từ đó đưa ra kế hoạch điều chỉnh kinh tế, xã hội (như quy hoạch hóa để xây dựng chung cư ở các thành phố lớn)"
   ]
  },
  {
   "cell_type": "markdown",
   "id": "929fa843-2836-417f-9ce6-a77b32aa4fb7",
   "metadata": {},
   "source": [
    "Các bước thực hiện:\n",
    "1. Trích xuất thông tin dân số cho các tỉnh thành\n",
    "2. Sử dụng mô hình thích hợp để dự đoán\n",
    "3. Đưa ra thông tin dự đoán"
   ]
  },
  {
   "cell_type": "code",
   "execution_count": null,
   "id": "89f4ca4e-5e45-47a4-a222-4ef6dd1a8fd8",
   "metadata": {},
   "outputs": [],
   "source": [
    "# unique provinces\n",
    "provinces = data[\"Provinces/city\"].unique()"
   ]
  },
  {
   "cell_type": "markdown",
   "id": "407359f5-8bda-4394-91f9-3543db6b599c",
   "metadata": {},
   "source": [
    "Tạo ra tập test mẫu với TP HCM"
   ]
  },
  {
   "cell_type": "code",
   "execution_count": null,
   "id": "81499da4-f4be-4f11-8517-add1ca571f14",
   "metadata": {},
   "outputs": [],
   "source": [
    "HCM_data = data[data[\"Provinces/city\"]=='Ho Chi Minh']\n",
    "x = HCM_data[['Year']]\n",
    "y = HCM_data['Average population']\n",
    "x_train = x[:8]\n",
    "y_train = y[:8]\n",
    "x_test = x[8:]\n",
    "y_test = y[8:]"
   ]
  },
  {
   "cell_type": "markdown",
   "id": "b0bc3554-4769-4f77-83b1-7afe17d31158",
   "metadata": {},
   "source": [
    "Sử dụng mô hình hồi quy tuyến tính cho dữ liệu trên"
   ]
  },
  {
   "cell_type": "code",
   "execution_count": null,
   "id": "07ec085e-07e1-42ac-b20a-7727595a67c3",
   "metadata": {},
   "outputs": [],
   "source": [
    "from sklearn import linear_model\n",
    "reg = linear_model.LinearRegression()\n",
    "reg.fit(x_train, y_train)"
   ]
  },
  {
   "cell_type": "markdown",
   "id": "01f52cf0-e15f-48e7-941b-8844351aa6d3",
   "metadata": {},
   "source": [
    "Trực quan hóa dữ liệu huấn luyện"
   ]
  },
  {
   "cell_type": "code",
   "execution_count": null,
   "id": "c59c3322-eaf8-4011-8b9b-7e313ce52d5d",
   "metadata": {},
   "outputs": [],
   "source": [
    "import matplotlib.pyplot as plt\n",
    "plt.scatter(x_train, y_train, color=\"black\")\n",
    "plt.plot(x_train, reg.predict(x_train), color=\"blue\", linewidth=3)"
   ]
  },
  {
   "cell_type": "markdown",
   "id": "f145d4e4-2e86-46d2-bb8e-cb3c35ab3e7b",
   "metadata": {},
   "source": [
    "Sử dụng độ đo MSE"
   ]
  },
  {
   "cell_type": "code",
   "execution_count": null,
   "id": "76962ebd-d6c1-44eb-a749-0237dbd8a3bd",
   "metadata": {},
   "outputs": [],
   "source": [
    "from sklearn.metrics import mean_squared_error\n",
    "y_pred = reg.predict(x_test)\n",
    "mean_squared_error(y_pred, y_test)"
   ]
  },
  {
   "cell_type": "markdown",
   "id": "16a288da-65d3-424e-abd5-7c35a8750c97",
   "metadata": {},
   "source": [
    "Áp dụng cho toàn bộ 63 tỉnh thành"
   ]
  },
  {
   "cell_type": "code",
   "execution_count": null,
   "id": "c78ae23b-9b3f-4f4f-a759-735fecf52d91",
   "metadata": {
    "tags": []
   },
   "outputs": [],
   "source": [
    "from sklearn import linear_model\n",
    "from sklearn.metrics import mean_squared_error\n",
    "scores = []\n",
    "res = pd.DataFrame(columns = ['Provinces/city','Average population', 'Year'])\n",
    "for province in provinces:\n",
    "    province_data = data[data[\"Provinces/city\"]==province]\n",
    "    x = province_data[['Year']]\n",
    "    y = province_data['Average population']\n",
    "    x_train = x[:8]\n",
    "    y_train = y[:8]\n",
    "    x_test = x[8:]\n",
    "    y_test = y[8:]\n",
    "    reg = linear_model.LinearRegression()\n",
    "    reg.fit(x_train.values, y_train.values)\n",
    "    y_pred = reg.predict(x_test.values)\n",
    "    scores.append(mean_squared_error(y_pred, y_test))\n",
    "    pred_x = np.arange(2021, 2026)\n",
    "    pred_y = reg.predict(pred_x.reshape(-1, 1))\n",
    "    pred_data = pd.DataFrame(data = zip(np.array([province]*5), pred_y, pred_x), columns = ['Provinces/city','Average population', 'Year'])\n",
    "    res = pd.concat([res, pred_data])\n",
    "res = res.reset_index()\n",
    "res = res.drop('index', axis=1)\n",
    "res"
   ]
  },
  {
   "cell_type": "markdown",
   "id": "1e6b1ffa-6f95-429e-b33a-6f8a86a070af",
   "metadata": {},
   "source": [
    "Đánh giá mô hình trên bằng MSE cho ra điểm số:"
   ]
  },
  {
   "cell_type": "code",
   "execution_count": null,
   "id": "cfb8c078-9f25-42f6-a6f0-24142292415b",
   "metadata": {},
   "outputs": [],
   "source": [
    "np.array(scores).mean()"
   ]
  },
  {
   "cell_type": "markdown",
   "id": "064ae5a9-e593-4df1-9b9f-fe324ed71579",
   "metadata": {},
   "source": [
    "Dự đoán dân số 5 năm sau theo từng vùng:"
   ]
  },
  {
   "cell_type": "code",
   "execution_count": null,
   "id": "a8b71c85-b4b7-4c78-a587-5b797a052503",
   "metadata": {},
   "outputs": [],
   "source": [
    "import seaborn as sns\n",
    "ax = sns.lineplot(data=res, x='Year', y = 'Average population' , hue='Provinces/city', markers=True, dashes=False, style='Provinces/city')\n",
    "h,l = ax.axes.get_legend_handles_labels()\n",
    "ax.axes.legend_.remove()\n",
    "ax.legend(h,l, ncol=3, loc=0, bbox_to_anchor=(2.1, 1))\n",
    "ax.set_xticks(np.arange(2021, 2026))"
   ]
  },
  {
   "cell_type": "markdown",
   "id": "3b14861b-ffa3-4d92-b8f3-ac7d2a283e12",
   "metadata": {},
   "source": [
    "## Decision Tree"
   ]
  },
  {
   "cell_type": "code",
   "execution_count": null,
   "id": "dc43776f-16f6-4346-b067-feee523e1e06",
   "metadata": {},
   "outputs": [],
   "source": [
    "data.Region.unique()"
   ]
  },
  {
   "cell_type": "markdown",
   "id": "541b1d09-ee63-42e6-9e96-104ebeeb2b74",
   "metadata": {},
   "source": [
    "Tiền xử lý cột **Region** bằng cách gán nhãn số từ 0 cho các lớp tương ứng. Ví dụ ở đây Hong river delta sẽ là số 1"
   ]
  },
  {
   "cell_type": "code",
   "execution_count": null,
   "id": "56ad9271-57e7-43bd-8cb8-070377158493",
   "metadata": {},
   "outputs": [],
   "source": [
    "from sklearn import preprocessing\n",
    "data1 = data.copy()\n",
    "le = preprocessing.LabelEncoder()\n",
    "le.fit(data1.Region)\n",
    "data1.Region = le.transform(data1.Region)\n",
    "data1"
   ]
  },
  {
   "cell_type": "markdown",
   "id": "2141704b-08aa-42bb-bc66-24533fe151f7",
   "metadata": {},
   "source": [
    "Sử dụng mô hình cây quyết định hồi quy cho từng tỉnh thành"
   ]
  },
  {
   "cell_type": "code",
   "execution_count": null,
   "id": "c2193fb7-a0a6-4d24-87d9-88a2a5e0d76b",
   "metadata": {},
   "outputs": [],
   "source": [
    "from sklearn import tree\n",
    "scores = []\n",
    "res = pd.DataFrame(columns = ['Provinces/city','Average population', 'Year'])\n",
    "for province in provinces:\n",
    "    province_data = data1[data1[\"Provinces/city\"]==province]\n",
    "    x = province_data[['Population density', 'Population grow ratio', 'Sex ratio', 'Region', 'Year']]\n",
    "    y = province_data['Average population']\n",
    "    x_train = x[:8]\n",
    "    y_train = y[:8]\n",
    "    x_test = x[8:]\n",
    "    y_test = y[8:]\n",
    "    clf = tree.DecisionTreeRegressor()\n",
    "    clf = clf.fit(x_train.values, y_train.values)\n",
    "    y_pred = clf.predict(x_test.values)\n",
    "    scores.append(mean_squared_error(y_pred, y_test))"
   ]
  },
  {
   "cell_type": "markdown",
   "id": "74b841a0-b4da-4f71-9221-afd819fb6aaa",
   "metadata": {},
   "source": [
    "Tính điểm dựa trên trung bình cộng điểm của các tỉnh thành"
   ]
  },
  {
   "cell_type": "code",
   "execution_count": null,
   "id": "ae0106c8-ddd2-4600-a036-3b9d60ae6b11",
   "metadata": {},
   "outputs": [],
   "source": [
    "np.array(scores).mean()"
   ]
  },
  {
   "cell_type": "markdown",
   "id": "6fc7a007-37ae-4f25-85bd-9df353e787b0",
   "metadata": {},
   "source": [
    "Các tham số để fine-tune"
   ]
  },
  {
   "cell_type": "code",
   "execution_count": null,
   "id": "67475bbb-71cc-4431-92d9-0fb44c6fb80a",
   "metadata": {},
   "outputs": [],
   "source": [
    "parameters={\"splitter\":[\"best\",\"random\"],\n",
    "            \"max_depth\" : [1,3,5,7],\n",
    "           \"min_samples_leaf\":[1,2,3,4,5],\n",
    "           \"min_weight_fraction_leaf\":[0.1,0.2,0.3, 0.4],\n",
    "           \"max_features\":[\"auto\",\"log2\",\"sqrt\",None],\n",
    "           \"max_leaf_nodes\":[None,10,20] }"
   ]
  },
  {
   "cell_type": "markdown",
   "id": "21b2d29f-e0b1-420f-8b59-4466324553a5",
   "metadata": {},
   "source": [
    "Chay mô hình fine-tune"
   ]
  },
  {
   "cell_type": "code",
   "execution_count": null,
   "id": "4ef848ec-880d-43b5-a655-b8b9020c9ad0",
   "metadata": {},
   "outputs": [],
   "source": [
    "from sklearn.model_selection import GridSearchCV\n",
    "tuning_model=GridSearchCV(clf,param_grid=parameters,scoring='neg_mean_squared_error',cv=3,verbose=3)\n",
    "tuning_model.fit(x,y)"
   ]
  },
  {
   "cell_type": "markdown",
   "id": "50dced67-2d56-4d26-a87e-ea571d17208d",
   "metadata": {},
   "source": [
    "Tham số tốt nhất là:"
   ]
  },
  {
   "cell_type": "code",
   "execution_count": null,
   "id": "4708df45-a5a7-468d-9415-1facb0194c0c",
   "metadata": {},
   "outputs": [],
   "source": [
    "tuning_model.best_params_"
   ]
  },
  {
   "cell_type": "markdown",
   "id": "3641b273-23b3-427c-bcfe-2d9d0800e43e",
   "metadata": {},
   "source": [
    "Chạy lại mô hình"
   ]
  },
  {
   "cell_type": "code",
   "execution_count": null,
   "id": "db045ba3-940e-4036-aae8-35abbbc5d7cb",
   "metadata": {},
   "outputs": [],
   "source": [
    "scores_array = []\n",
    "res = pd.DataFrame(columns = ['Provinces/city','Average population', 'Year'])\n",
    "for province in provinces:\n",
    "    province_data = data1[data1[\"Provinces/city\"]==province]\n",
    "    x = province_data[['Year', 'Population density', 'Population grow ratio', 'Sex ratio', 'Region']]\n",
    "    y = province_data['Average population']\n",
    "    x_train = x[:8]\n",
    "    y_train = y[:8]\n",
    "    x_test = x[8:]\n",
    "    y_test = y[8:]\n",
    "    clf = tree.DecisionTreeRegressor(max_depth = 5, max_features = None,\n",
    "                                    max_leaf_nodes = 20, min_samples_leaf = 1, \n",
    "                                    min_weight_fraction_leaf = 0.1, splitter = 'random')\n",
    "    clf = clf.fit(x_train.values, y_train.values)\n",
    "    y_pred = clf.predict(x_test.values)\n",
    "    scores.append(mean_squared_error(y_pred, y_test))"
   ]
  },
  {
   "cell_type": "markdown",
   "id": "5c8c8ff5-0023-490f-87e4-d29c220946c9",
   "metadata": {},
   "source": [
    "Điểm số sau cùng của mô hình được tinh chỉnh"
   ]
  },
  {
   "cell_type": "code",
   "execution_count": null,
   "id": "fac9f385-78f9-4a65-9a03-ddd5e8becd20",
   "metadata": {},
   "outputs": [],
   "source": [
    "np.array(scores).mean()"
   ]
  }
 ],
 "metadata": {
  "kernelspec": {
   "display_name": "Python 3 (ipykernel)",
   "language": "python",
   "name": "python3"
  },
  "language_info": {
   "codemirror_mode": {
    "name": "ipython",
    "version": 3
   },
   "file_extension": ".py",
   "mimetype": "text/x-python",
   "name": "python",
   "nbconvert_exporter": "python",
   "pygments_lexer": "ipython3",
   "version": "3.9.13"
  }
 },
 "nbformat": 4,
 "nbformat_minor": 5
}
