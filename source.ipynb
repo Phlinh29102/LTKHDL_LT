{
 "cells": [
  {
   "cell_type": "markdown",
   "metadata": {},
   "source": [
    "# Đồ án Thực Hành Lập Trình Khoa Học Dữ Liệu"
   ]
  },
  {
   "cell_type": "markdown",
   "metadata": {},
   "source": [
    "### Bảng thành viên nhóm 9\n",
    "|<center><div style=\"width:150px\">MSSV</div><center>|<div style=\"width:290px\">Họ và tên</div>|\n",
    "|---------- |:-------------:|\n",
    "| <center>20120041<center>  |  Trần Kim Bảo |\n",
    "| <center>20120071<center>  | Nguyễn Thị Bích Hà |\n",
    "| <center>20120369<center>  |    Nguyễn Thanh Tân  | \n",
    "| <center>20120521<center>  | Trần Thị Phương Linh |"
   ]
  },
  {
   "cell_type": "markdown",
   "metadata": {},
   "source": [
    "## Import thư viện"
   ]
  },
  {
   "cell_type": "code",
   "execution_count": 2,
   "metadata": {},
   "outputs": [],
   "source": [
    "import pandas as pd\n",
    "import matplotlib.pyplot as plt\n",
    "import numpy as np"
   ]
  },
  {
   "cell_type": "markdown",
   "metadata": {},
   "source": [
    "## Thu thập dữ liệu"
   ]
  },
  {
   "cell_type": "markdown",
   "metadata": {},
   "source": [
    "- Nhóm sử dụng dữ liệu \"population_en_v2.csv\" tại https://data.opendevelopmentcambodia.net/en/dataset/vietnam-population-status-2011-2016.\n",
    "- Tập dữ liệu mô tả tình trạng dân số của các tỉnh Việt Nam từ năm 2011 đến năm 2020.\n",
    "- LICENSE của dữ liệu là [CC BY-SA 4.0](https://creativecommons.org/licenses/by-sa/4.0/), người dùng được phép sử dụng với mục đích phi thương mại và phải credit cho chủ sở hữu.\n",
    "- Người ta thu thập dữ liệu tại website [Tổng cục Thống kê](https://www.gso.gov.vn/)."
   ]
  },
  {
   "cell_type": "markdown",
   "metadata": {},
   "source": [
    "## Khám phá dữ liệu"
   ]
  },
  {
   "cell_type": "markdown",
   "metadata": {},
   "source": [
    "### Đọc dữ liệu vào Dataframe `population_df`"
   ]
  },
  {
   "cell_type": "code",
   "execution_count": 3,
   "metadata": {},
   "outputs": [
    {
     "data": {
      "text/html": [
       "<div>\n",
       "<style scoped>\n",
       "    .dataframe tbody tr th:only-of-type {\n",
       "        vertical-align: middle;\n",
       "    }\n",
       "\n",
       "    .dataframe tbody tr th {\n",
       "        vertical-align: top;\n",
       "    }\n",
       "\n",
       "    .dataframe thead th {\n",
       "        text-align: right;\n",
       "    }\n",
       "</style>\n",
       "<table border=\"1\" class=\"dataframe\">\n",
       "  <thead>\n",
       "    <tr style=\"text-align: right;\">\n",
       "      <th></th>\n",
       "      <th>Provinces/city</th>\n",
       "      <th>Population density</th>\n",
       "      <th>Average population</th>\n",
       "      <th>Sex ratio</th>\n",
       "      <th>Population grow ratio</th>\n",
       "      <th>15+ labor</th>\n",
       "      <th>Region</th>\n",
       "      <th>Year</th>\n",
       "    </tr>\n",
       "  </thead>\n",
       "  <tbody>\n",
       "    <tr>\n",
       "      <th>0</th>\n",
       "      <td>Ha Noi</td>\n",
       "      <td>2031.1</td>\n",
       "      <td>6761.3</td>\n",
       "      <td>97.8</td>\n",
       "      <td>1.93</td>\n",
       "      <td>3572.9</td>\n",
       "      <td>Hong river Delta</td>\n",
       "      <td>2011</td>\n",
       "    </tr>\n",
       "    <tr>\n",
       "      <th>1</th>\n",
       "      <td>Vinh Phuc</td>\n",
       "      <td>818.0</td>\n",
       "      <td>1011.4</td>\n",
       "      <td>97.6</td>\n",
       "      <td>0.38</td>\n",
       "      <td>608.3</td>\n",
       "      <td>Hong river Delta</td>\n",
       "      <td>2011</td>\n",
       "    </tr>\n",
       "    <tr>\n",
       "      <th>2</th>\n",
       "      <td>Bac Ninh</td>\n",
       "      <td>1292.6</td>\n",
       "      <td>1063.4</td>\n",
       "      <td>96.7</td>\n",
       "      <td>1.84</td>\n",
       "      <td>593.5</td>\n",
       "      <td>Hong river Delta</td>\n",
       "      <td>2011</td>\n",
       "    </tr>\n",
       "    <tr>\n",
       "      <th>3</th>\n",
       "      <td>Quang Ninh</td>\n",
       "      <td>191.4</td>\n",
       "      <td>1168.0</td>\n",
       "      <td>105.4</td>\n",
       "      <td>0.93</td>\n",
       "      <td>675.0</td>\n",
       "      <td>Hong river Delta</td>\n",
       "      <td>2011</td>\n",
       "    </tr>\n",
       "    <tr>\n",
       "      <th>4</th>\n",
       "      <td>Hai Duong</td>\n",
       "      <td>1044.6</td>\n",
       "      <td>1729.8</td>\n",
       "      <td>96.1</td>\n",
       "      <td>0.78</td>\n",
       "      <td>1071.0</td>\n",
       "      <td>Hong river Delta</td>\n",
       "      <td>2011</td>\n",
       "    </tr>\n",
       "  </tbody>\n",
       "</table>\n",
       "</div>"
      ],
      "text/plain": [
       "  Provinces/city  Population density  Average population  Sex ratio  \\\n",
       "0         Ha Noi              2031.1              6761.3       97.8   \n",
       "1      Vinh Phuc               818.0              1011.4       97.6   \n",
       "2       Bac Ninh              1292.6              1063.4       96.7   \n",
       "3     Quang Ninh               191.4              1168.0      105.4   \n",
       "4      Hai Duong              1044.6              1729.8       96.1   \n",
       "\n",
       "   Population grow ratio  15+ labor            Region  Year  \n",
       "0                   1.93     3572.9  Hong river Delta  2011  \n",
       "1                   0.38      608.3  Hong river Delta  2011  \n",
       "2                   1.84      593.5  Hong river Delta  2011  \n",
       "3                   0.93      675.0  Hong river Delta  2011  \n",
       "4                   0.78     1071.0  Hong river Delta  2011  "
      ]
     },
     "execution_count": 3,
     "metadata": {},
     "output_type": "execute_result"
    }
   ],
   "source": [
    "population_df = pd.read_csv('population_en_v2.csv')\n",
    "population_df.head()"
   ]
  },
  {
   "cell_type": "code",
   "execution_count": 4,
   "metadata": {},
   "outputs": [
    {
     "name": "stdout",
     "output_type": "stream",
     "text": [
      "<class 'pandas.core.frame.DataFrame'>\n",
      "RangeIndex: 630 entries, 0 to 629\n",
      "Data columns (total 8 columns):\n",
      " #   Column                 Non-Null Count  Dtype  \n",
      "---  ------                 --------------  -----  \n",
      " 0   Provinces/city         630 non-null    object \n",
      " 1   Population density     630 non-null    float64\n",
      " 2   Average population     630 non-null    float64\n",
      " 3   Sex ratio              630 non-null    float64\n",
      " 4   Population grow ratio  630 non-null    float64\n",
      " 5   15+ labor              630 non-null    float64\n",
      " 6   Region                 630 non-null    object \n",
      " 7   Year                   630 non-null    int64  \n",
      "dtypes: float64(5), int64(1), object(2)\n",
      "memory usage: 39.5+ KB\n"
     ]
    }
   ],
   "source": [
    "population_df.info()"
   ]
  },
  {
   "cell_type": "markdown",
   "metadata": {},
   "source": [
    "### Dữ liệu gồm có bao nhiêu dòng và bao nhiêu cột?"
   ]
  },
  {
   "cell_type": "markdown",
   "metadata": {},
   "source": [
    "Tính số dòng và số cột rồi lưu vào 2 biến `num_rows` và `num_cols`."
   ]
  },
  {
   "cell_type": "code",
   "execution_count": 5,
   "metadata": {},
   "outputs": [
    {
     "data": {
      "text/plain": [
       "(630, 8)"
      ]
     },
     "execution_count": 5,
     "metadata": {},
     "output_type": "execute_result"
    }
   ],
   "source": [
    "num_rows, num_cols = population_df.shape\n",
    "num_rows, num_cols"
   ]
  },
  {
   "cell_type": "markdown",
   "metadata": {},
   "source": [
    "### Mỗi dòng có ý nghĩa gì? Có vấn đề các dòng có ý nghĩa khác nhau không?"
   ]
  },
  {
   "cell_type": "markdown",
   "metadata": {},
   "source": [
    "Mỗi dòng chứa thông tin dân số của các tỉnh Việt Nam qua các năm từ 2011 đến 2020, không có vấn đề các dòng có ý nghĩa khác nhau."
   ]
  },
  {
   "cell_type": "markdown",
   "metadata": {},
   "source": [
    "### Tiến hành kiểm tra các dòng có bị lặp không?"
   ]
  },
  {
   "cell_type": "markdown",
   "metadata": {},
   "source": [
    "Kiểm tra bằng cách lưu kết quả vào biến `have_duplicated_rows`. Biến có giá trị `True` nếu dữ liệu các dòng bị lặp và `False` nếu ngược lại."
   ]
  },
  {
   "cell_type": "code",
   "execution_count": 6,
   "metadata": {},
   "outputs": [
    {
     "data": {
      "text/plain": [
       "False"
      ]
     },
     "execution_count": 6,
     "metadata": {},
     "output_type": "execute_result"
    }
   ],
   "source": [
    "duplicated_list = population_df.duplicated()\n",
    "if True in duplicated_list.values:\n",
    "    have_duplicated_rows = True\n",
    "else:\n",
    "    have_duplicated_rows = False\n",
    "have_duplicated_rows"
   ]
  },
  {
   "cell_type": "markdown",
   "metadata": {},
   "source": [
    "Ta có thể thấy không có dòng nào bị lặp cả."
   ]
  },
  {
   "cell_type": "markdown",
   "metadata": {},
   "source": [
    "### Mỗi cột có ý nghĩa gì?"
   ]
  },
  {
   "cell_type": "markdown",
   "metadata": {},
   "source": [
    "Mô tả các cột có trong file \"population_en_v2.csv\""
   ]
  },
  {
   "cell_type": "markdown",
   "metadata": {},
   "source": [
    "|STT|Tên cột dữ liệu | <center>Mô tả<center> | Đơn vị |\n",
    "|--|:------:| ---| --- |\n",
    "|1|Provinces/city|<center><center>|\n",
    "|2|Population density| <center><center>|\n",
    "|3|Average population|<center><center>|\n",
    "|4|Published Year| <center><center>|  |\n",
    "|5|Sex ratio|<center><center>|  | \n",
    "|6|Population grow ratio|<center><center>|  \n",
    "|7|15+ labor|<center><center>|  |\n",
    "|8| Region|<center><center>| |\n",
    "|9|Year|<center><center>|  |\n"
   ]
  },
  {
   "cell_type": "markdown",
   "metadata": {},
   "source": [
    "### Mỗi cột hiện đang có kiểu dữ liệu gì? Có cột nào có kiểu dữ liệu chưa phù hợp để có thể xử lý tiếp không?"
   ]
  },
  {
   "cell_type": "markdown",
   "metadata": {},
   "source": [
    "Ta tiến hành lấy `dtype` của mỗi cột trong `population_df` và lưu kết quả vào series `col_dtypes`."
   ]
  },
  {
   "cell_type": "code",
   "execution_count": 7,
   "metadata": {},
   "outputs": [],
   "source": [
    "#YOUR CODE HERE"
   ]
  },
  {
   "cell_type": "markdown",
   "metadata": {},
   "source": [
    "YOUR TEXT HERE"
   ]
  },
  {
   "cell_type": "code",
   "execution_count": 8,
   "metadata": {},
   "outputs": [],
   "source": [
    "#YOUR CODE HERE"
   ]
  },
  {
   "cell_type": "markdown",
   "metadata": {},
   "source": [
    "### Với mỗi cột, các giá trị được phân bố như thế nào?"
   ]
  },
  {
   "cell_type": "markdown",
   "metadata": {},
   "source": [
    "### Với mỗi cột có kiểu dữ liệu dạng số (numerical), các giá trị được phân bố như thế nào?\n",
    "\n",
    "Ở dữ liệu này, hiện có 6 cột thuộc nhóm numeric: `Population density`, `Average population`, `Sex ratio`, `Population grow ratio`, `15+ labor`, `Year`. "
   ]
  },
  {
   "cell_type": "code",
   "execution_count": 16,
   "metadata": {},
   "outputs": [
    {
     "data": {
      "text/html": [
       "<div>\n",
       "<style scoped>\n",
       "    .dataframe tbody tr th:only-of-type {\n",
       "        vertical-align: middle;\n",
       "    }\n",
       "\n",
       "    .dataframe tbody tr th {\n",
       "        vertical-align: top;\n",
       "    }\n",
       "\n",
       "    .dataframe thead th {\n",
       "        text-align: right;\n",
       "    }\n",
       "</style>\n",
       "<table border=\"1\" class=\"dataframe\">\n",
       "  <thead>\n",
       "    <tr style=\"text-align: right;\">\n",
       "      <th></th>\n",
       "      <th>Population density</th>\n",
       "      <th>Average population</th>\n",
       "      <th>Sex ratio</th>\n",
       "      <th>Population grow ratio</th>\n",
       "      <th>15+ labor</th>\n",
       "      <th>Year</th>\n",
       "    </tr>\n",
       "  </thead>\n",
       "  <tbody>\n",
       "    <tr>\n",
       "      <th>0</th>\n",
       "      <td>2031.1</td>\n",
       "      <td>6761.3</td>\n",
       "      <td>97.80</td>\n",
       "      <td>1.93</td>\n",
       "      <td>3572.90</td>\n",
       "      <td>2011</td>\n",
       "    </tr>\n",
       "    <tr>\n",
       "      <th>1</th>\n",
       "      <td>818.0</td>\n",
       "      <td>1011.4</td>\n",
       "      <td>97.60</td>\n",
       "      <td>0.38</td>\n",
       "      <td>608.30</td>\n",
       "      <td>2011</td>\n",
       "    </tr>\n",
       "    <tr>\n",
       "      <th>2</th>\n",
       "      <td>1292.6</td>\n",
       "      <td>1063.4</td>\n",
       "      <td>96.70</td>\n",
       "      <td>1.84</td>\n",
       "      <td>593.50</td>\n",
       "      <td>2011</td>\n",
       "    </tr>\n",
       "    <tr>\n",
       "      <th>3</th>\n",
       "      <td>191.4</td>\n",
       "      <td>1168.0</td>\n",
       "      <td>105.40</td>\n",
       "      <td>0.93</td>\n",
       "      <td>675.00</td>\n",
       "      <td>2011</td>\n",
       "    </tr>\n",
       "    <tr>\n",
       "      <th>4</th>\n",
       "      <td>1044.6</td>\n",
       "      <td>1729.8</td>\n",
       "      <td>96.10</td>\n",
       "      <td>0.78</td>\n",
       "      <td>1071.00</td>\n",
       "      <td>2011</td>\n",
       "    </tr>\n",
       "    <tr>\n",
       "      <th>...</th>\n",
       "      <td>...</td>\n",
       "      <td>...</td>\n",
       "      <td>...</td>\n",
       "      <td>...</td>\n",
       "      <td>...</td>\n",
       "      <td>...</td>\n",
       "    </tr>\n",
       "    <tr>\n",
       "      <th>625</th>\n",
       "      <td>862.0</td>\n",
       "      <td>1240.7</td>\n",
       "      <td>98.65</td>\n",
       "      <td>0.39</td>\n",
       "      <td>716.78</td>\n",
       "      <td>2020</td>\n",
       "    </tr>\n",
       "    <tr>\n",
       "      <th>626</th>\n",
       "      <td>450.0</td>\n",
       "      <td>729.8</td>\n",
       "      <td>101.38</td>\n",
       "      <td>-0.33</td>\n",
       "      <td>402.33</td>\n",
       "      <td>2020</td>\n",
       "    </tr>\n",
       "    <tr>\n",
       "      <th>627</th>\n",
       "      <td>361.0</td>\n",
       "      <td>1195.7</td>\n",
       "      <td>99.34</td>\n",
       "      <td>-0.32</td>\n",
       "      <td>641.91</td>\n",
       "      <td>2020</td>\n",
       "    </tr>\n",
       "    <tr>\n",
       "      <th>628</th>\n",
       "      <td>342.0</td>\n",
       "      <td>913.5</td>\n",
       "      <td>100.15</td>\n",
       "      <td>0.58</td>\n",
       "      <td>507.76</td>\n",
       "      <td>2020</td>\n",
       "    </tr>\n",
       "    <tr>\n",
       "      <th>629</th>\n",
       "      <td>229.0</td>\n",
       "      <td>1193.9</td>\n",
       "      <td>102.64</td>\n",
       "      <td>-0.03</td>\n",
       "      <td>669.77</td>\n",
       "      <td>2020</td>\n",
       "    </tr>\n",
       "  </tbody>\n",
       "</table>\n",
       "<p>630 rows × 6 columns</p>\n",
       "</div>"
      ],
      "text/plain": [
       "     Population density  Average population  Sex ratio  Population grow ratio  \\\n",
       "0                2031.1              6761.3      97.80                   1.93   \n",
       "1                 818.0              1011.4      97.60                   0.38   \n",
       "2                1292.6              1063.4      96.70                   1.84   \n",
       "3                 191.4              1168.0     105.40                   0.93   \n",
       "4                1044.6              1729.8      96.10                   0.78   \n",
       "..                  ...                 ...        ...                    ...   \n",
       "625               862.0              1240.7      98.65                   0.39   \n",
       "626               450.0               729.8     101.38                  -0.33   \n",
       "627               361.0              1195.7      99.34                  -0.32   \n",
       "628               342.0               913.5     100.15                   0.58   \n",
       "629               229.0              1193.9     102.64                  -0.03   \n",
       "\n",
       "     15+ labor  Year  \n",
       "0      3572.90  2011  \n",
       "1       608.30  2011  \n",
       "2       593.50  2011  \n",
       "3       675.00  2011  \n",
       "4      1071.00  2011  \n",
       "..         ...   ...  \n",
       "625     716.78  2020  \n",
       "626     402.33  2020  \n",
       "627     641.91  2020  \n",
       "628     507.76  2020  \n",
       "629     669.77  2020  \n",
       "\n",
       "[630 rows x 6 columns]"
      ]
     },
     "execution_count": 16,
     "metadata": {},
     "output_type": "execute_result"
    }
   ],
   "source": [
    "numerical_cols = population_df[['Population density', 'Average population', 'Sex ratio',\n",
    "                                'Population grow ratio','15+ labor', 'Year']].copy()\n",
    "numerical_cols"
   ]
  },
  {
   "cell_type": "markdown",
   "metadata": {},
   "source": [
    "Với mỗi cột numeric ta sẽ tính tỉ lệ % giá trị thiếu (từ 0 đến 100), min, max. Và lưu kết quả vào Dataframe `nume_col_profiles_df`.\n",
    "Dataframe này gồm có:\n",
    "- 3 dòng là `missing_ratio`, `min`, `max` lần lượt là tỉ lệ các giá trị thiếu mỗi cột, min và max.\n",
    "- 5 cột là `Population density`, `Average population`, `Sex ratio`, `Population grow ratio`, `15+ labor`, `Year`."
   ]
  },
  {
   "cell_type": "code",
   "execution_count": 15,
   "metadata": {},
   "outputs": [
    {
     "data": {
      "text/html": [
       "<div>\n",
       "<style scoped>\n",
       "    .dataframe tbody tr th:only-of-type {\n",
       "        vertical-align: middle;\n",
       "    }\n",
       "\n",
       "    .dataframe tbody tr th {\n",
       "        vertical-align: top;\n",
       "    }\n",
       "\n",
       "    .dataframe thead th {\n",
       "        text-align: right;\n",
       "    }\n",
       "</style>\n",
       "<table border=\"1\" class=\"dataframe\">\n",
       "  <thead>\n",
       "    <tr style=\"text-align: right;\">\n",
       "      <th></th>\n",
       "      <th>Population density</th>\n",
       "      <th>Average population</th>\n",
       "      <th>Sex ratio</th>\n",
       "      <th>Population grow ratio</th>\n",
       "      <th>15+ labor</th>\n",
       "      <th>Year</th>\n",
       "    </tr>\n",
       "  </thead>\n",
       "  <tbody>\n",
       "    <tr>\n",
       "      <th>missing_ratio</th>\n",
       "      <td>0.0</td>\n",
       "      <td>0.0</td>\n",
       "      <td>0.0</td>\n",
       "      <td>0.00</td>\n",
       "      <td>0.0</td>\n",
       "      <td>0.0</td>\n",
       "    </tr>\n",
       "    <tr>\n",
       "      <th>min</th>\n",
       "      <td>42.9</td>\n",
       "      <td>300.4</td>\n",
       "      <td>91.1</td>\n",
       "      <td>-1.22</td>\n",
       "      <td>199.6</td>\n",
       "      <td>2011.0</td>\n",
       "    </tr>\n",
       "    <tr>\n",
       "      <th>max</th>\n",
       "      <td>4476.0</td>\n",
       "      <td>9227.6</td>\n",
       "      <td>114.1</td>\n",
       "      <td>5.30</td>\n",
       "      <td>4826.0</td>\n",
       "      <td>2020.0</td>\n",
       "    </tr>\n",
       "  </tbody>\n",
       "</table>\n",
       "</div>"
      ],
      "text/plain": [
       "               Population density  Average population  Sex ratio  \\\n",
       "missing_ratio                 0.0                 0.0        0.0   \n",
       "min                          42.9               300.4       91.1   \n",
       "max                        4476.0              9227.6      114.1   \n",
       "\n",
       "               Population grow ratio  15+ labor    Year  \n",
       "missing_ratio                   0.00        0.0     0.0  \n",
       "min                            -1.22      199.6  2011.0  \n",
       "max                             5.30     4826.0  2020.0  "
      ]
     },
     "execution_count": 15,
     "metadata": {},
     "output_type": "execute_result"
    }
   ],
   "source": [
    "def missing_ratio(c):\n",
    "    return  c.isna().sum()/len(population_df) * 100\n",
    "\n",
    "def min(c):\n",
    "    return c.min()\n",
    "\n",
    "def max(c):\n",
    "    return c.max()\n",
    "\n",
    "nume_col_profiles_df = numerical_cols.agg([missing_ratio, min, max])\n",
    "nume_col_profiles_df"
   ]
  },
  {
   "cell_type": "markdown",
   "metadata": {},
   "source": [
    "### Với mỗi cột có kiểu dữ liệu dạng phân loại (categorical), các giá trị được phân bố như thế nào"
   ]
  },
  {
   "cell_type": "markdown",
   "metadata": {},
   "source": [
    "YOUR TEXT HERE"
   ]
  },
  {
   "cell_type": "code",
   "execution_count": 10,
   "metadata": {},
   "outputs": [],
   "source": [
    "#YOUR CODE HERE"
   ]
  },
  {
   "cell_type": "markdown",
   "metadata": {},
   "source": [
    "## Đưa ra các câu hỏi"
   ]
  },
  {
   "cell_type": "markdown",
   "metadata": {},
   "source": [
    "YOUR TEXT HERE"
   ]
  },
  {
   "cell_type": "markdown",
   "metadata": {},
   "source": [
    "## Tiền xử lý và phân tích dữ liệu để trả lời cho từng câu hỏi"
   ]
  }
 ],
 "metadata": {
  "kernelspec": {
   "display_name": "Python 3 (ipykernel)",
   "language": "python",
   "name": "python3"
  },
  "language_info": {
   "codemirror_mode": {
    "name": "ipython",
    "version": 3
   },
   "file_extension": ".py",
   "mimetype": "text/x-python",
   "name": "python",
   "nbconvert_exporter": "python",
   "pygments_lexer": "ipython3",
   "version": "3.8.8"
  },
  "vscode": {
   "interpreter": {
    "hash": "8924efdbfc21def2df13188d4eada491bc755f59837026409ba181ab9c858a32"
   }
  }
 },
 "nbformat": 4,
 "nbformat_minor": 2
}
